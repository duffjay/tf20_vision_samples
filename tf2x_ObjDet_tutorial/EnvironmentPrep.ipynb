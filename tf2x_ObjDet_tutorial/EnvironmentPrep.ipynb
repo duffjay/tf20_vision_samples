{
 "cells": [
  {
   "cell_type": "markdown",
   "metadata": {},
   "source": [
    "# Environment Prep\n",
    "\n",
    "This notebook sits between:\n",
    "- tf20_vision_samples/tf2x Obect Detection tutorial\n",
    "- tensorflow/models/research/object detection  -- which you cannot update\n",
    "\n",
    "## NOTES - troubleshooting\n",
    "- the tutorial is written for Windows (ewww) - and, that means '\\' in the paths - you need to change them"
   ]
  },
  {
   "cell_type": "code",
   "execution_count": 1,
   "metadata": {},
   "outputs": [],
   "source": [
    "import os\n",
    "import sys"
   ]
  },
  {
   "cell_type": "code",
   "execution_count": 2,
   "metadata": {},
   "outputs": [],
   "source": [
    "import tensorflow as tf\n",
    "from tensorflow import keras\n",
    "from tensorflow.python.framework.convert_to_constants import convert_variables_to_constants_v2\n",
    "import numpy as np"
   ]
  },
  {
   "cell_type": "code",
   "execution_count": 3,
   "metadata": {},
   "outputs": [
    {
     "name": "stdout",
     "output_type": "stream",
     "text": [
      "tensorflow: 2.4.0\n"
     ]
    }
   ],
   "source": [
    "print (\"tensorflow:\", tf.__version__)\n",
    "# print (\"keras:\", tf.keras.__version)"
   ]
  },
  {
   "cell_type": "markdown",
   "metadata": {},
   "source": [
    "### Globals"
   ]
  },
  {
   "cell_type": "code",
   "execution_count": null,
   "metadata": {},
   "outputs": [],
   "source": [
    "# TODO - put logic in here to computer\n",
    "HOME = os.path.expanduser(\"~\")\n",
    "PROJECTS = os.path.join(HOME, \"projects\")\n",
    "MODELS = os.path.join(HOME, \"projects/tensorflow/models\")\n",
    "MODEL_RESEARCH = os.path.join(MODELS, \"research\")\n",
    "OBJ_DETECT = os.path.join(MODELS, \"research/object_detection\")\n",
    "\n",
    "\n",
    "TRAINING_DEMO = os.path.join(PROJECTS, \"tensorflow/workspace/training_demo\")\n",
    "PIPELINE_CONFIG = os.path.join(TRAINING_DEMO, \"models/my_ssd_resnet50_v1_fpn\",\"laptop_pipeline.config\")\n",
    "TRAINED_EXPORT = os.path.join(TRAINING_DEMO, \"exported-models/\")\n",
    "INFERENCE_GRAPH = os.path.join(TRAINING_DEMO, \"inference_graph\")"
   ]
  },
  {
   "cell_type": "code",
   "execution_count": null,
   "metadata": {},
   "outputs": [],
   "source": [
    "!ls {TRAINING_DEMO}/inference_graph"
   ]
  },
  {
   "cell_type": "markdown",
   "metadata": {},
   "source": [
    "## DATA\n",
    "\n",
    "you only need to move the data once - it will be there between restarts\n",
    "\n",
    "### tfrecords\n",
    "the tutorial says you need 2 new files under the training_demo/annotations folder, named \n",
    "- test.record\n",
    "- train.record"
   ]
  },
  {
   "cell_type": "code",
   "execution_count": null,
   "metadata": {},
   "outputs": [],
   "source": [
    "import os"
   ]
  },
  {
   "cell_type": "code",
   "execution_count": null,
   "metadata": {},
   "outputs": [],
   "source": [
    "!pwd"
   ]
  },
  {
   "cell_type": "code",
   "execution_count": null,
   "metadata": {},
   "outputs": [],
   "source": [
    "!ls /home/ec2-user/SageMaker/tensorflow/workspace/training_demo/annotations"
   ]
  },
  {
   "cell_type": "markdown",
   "metadata": {},
   "source": [
    "## Model\n",
    "download the ResNet50 640x640 model  \n",
    "\n",
    "copy the pipeline.config file to my* folder.   Then edit locally with gedit."
   ]
  },
  {
   "cell_type": "code",
   "execution_count": null,
   "metadata": {},
   "outputs": [],
   "source": [
    "# you should see checkpoint, pipeline.config, saved_model\n",
    "!ls /home/ec2-user/SageMaker/tensorflow/workspace/training_demo/pre-trained-models/ssd_resnet50_v1_fpn_640x640_coco17_tpu-8/"
   ]
  },
  {
   "cell_type": "code",
   "execution_count": null,
   "metadata": {},
   "outputs": [],
   "source": [
    "!ls /home/ec2-user/SageMaker/tensorflow/workspace/training_demo/models/my_ssd_resnet50_v1_fpn -l"
   ]
  },
  {
   "cell_type": "markdown",
   "metadata": {},
   "source": [
    "## TF 2.x GPU\n",
    "Common Problems\n",
    "- if list_physical_devices shows GPU and gpu_device_name is none, then you probably have a CUDA version issue - check CUDA version, PATH & LD_LIBRARY path in ./bashrc.     e.g.   path needs to include CUDA 10.1 for TF2.2\n",
    "- check your version of TensorFlow, one of the steps automatically upgrades from TF 2.x to 2.4.   Thus, you need CUDA 11.0 installed.   However, I didn't notice any path requirements..."
   ]
  },
  {
   "cell_type": "code",
   "execution_count": null,
   "metadata": {},
   "outputs": [],
   "source": [
    "import tensorflow as tf"
   ]
  },
  {
   "cell_type": "code",
   "execution_count": null,
   "metadata": {},
   "outputs": [],
   "source": [
    "print (tf.__version__)"
   ]
  },
  {
   "cell_type": "code",
   "execution_count": null,
   "metadata": {},
   "outputs": [],
   "source": [
    "if tf.test.gpu_device_name():\n",
    "    print('Default GPU Device: {}'.format(tf.test.gpu_device_name()))\n",
    "else:\n",
    "    print(\"Please install GPU version of TF\")"
   ]
  },
  {
   "cell_type": "code",
   "execution_count": null,
   "metadata": {},
   "outputs": [],
   "source": [
    "physical_devices= tf.config.experimental.list_physical_devices('GPU')\n",
    "print(len(physical_devices))"
   ]
  },
  {
   "cell_type": "code",
   "execution_count": null,
   "metadata": {},
   "outputs": [],
   "source": [
    "from tensorflow.python.client import device_lib\n",
    "print(device_lib.list_local_devices())"
   ]
  },
  {
   "cell_type": "code",
   "execution_count": null,
   "metadata": {},
   "outputs": [],
   "source": [
    "print(tf.reduce_sum(tf.random.normal([1000, 1000])))"
   ]
  },
  {
   "cell_type": "markdown",
   "metadata": {},
   "source": [
    "## Tutorial - Object Detection API Setup"
   ]
  },
  {
   "cell_type": "code",
   "execution_count": null,
   "metadata": {},
   "outputs": [],
   "source": [
    "!pip install pycocotools"
   ]
  },
  {
   "cell_type": "code",
   "execution_count": null,
   "metadata": {},
   "outputs": [],
   "source": [
    "import pycocotools"
   ]
  },
  {
   "cell_type": "markdown",
   "metadata": {},
   "source": [
    "### API\n",
    "\n",
    "commom problems:\n",
    "\n",
    "#### ASUS\n",
    "\n",
    "\n",
    "#### Dell Inspiron\n",
    "\n",
    "```ERROR: pip's dependency resolver does not currently take into account all the packages that are installed. This behaviour is the source of the following dependency conflicts.\n",
    "paramiko 2.4.2 requires cryptography>=1.5, which is not installed.\n",
    "fabric 2.4.0 requires cryptography>=1.1, which is not installed.\n",
    "aws 0.2.5 requires boto, which is not installed.\n",
    "tensorflow-gpu 2.2.0 requires tensorboard<2.3.0,>=2.2.0, but you have tensorboard 2.4.0 which is incompatible.\n",
    "tensorflow-gpu 2.2.0 requires tensorflow-estimator<2.3.0,>=2.2.0, but you have tensorflow-estimator 2.4.0 which is incompatible.\n",
    "\n",
    "```\n",
    "- pip install crytography  # 3.3.1\n",
    "- pip install boto # 2.49.0\n",
    "- DON'T mess with tensorflow* dependencies - because this script is in some kind of loop!   I had 2.2 then it uninstalled and upgraded to 2.4 so the fact that it is complaining about 2.4 is kind of bogus.   I suppose you could back it down and it would probably work.  BUT - I did nothing and then reran the script and it worked fine\n",
    "\n",
    "Successfully installed object-detection-0.1"
   ]
  },
  {
   "cell_type": "code",
   "execution_count": null,
   "metadata": {},
   "outputs": [],
   "source": [
    "original_cwd = cwd = os.getcwd()\n",
    "print (\"Original working directory:\", original_cwd)"
   ]
  },
  {
   "cell_type": "code",
   "execution_count": null,
   "metadata": {},
   "outputs": [],
   "source": [
    "os.chdir('/home/ec2-user/SageMaker/tensorflow/models/research/')\n",
    "cwd = os.getcwd() \n",
    "print(\"Current working directory is:\", cwd)"
   ]
  },
  {
   "cell_type": "code",
   "execution_count": null,
   "metadata": {},
   "outputs": [],
   "source": [
    "# make sure your kernel is correct:  conda_tensorflow2_p36\n",
    "!python -m pip install ."
   ]
  },
  {
   "cell_type": "markdown",
   "metadata": {},
   "source": [
    "### Test the API\n",
    "you should be in models/research\n",
    "\n",
    "Possible Problems:\n",
    "- GPU error - memory;   you may need to close this notebook and others to free up GPU memory"
   ]
  },
  {
   "cell_type": "code",
   "execution_count": null,
   "metadata": {},
   "outputs": [],
   "source": [
    "!python object_detection/builders/model_builder_tf2_test.py"
   ]
  },
  {
   "cell_type": "code",
   "execution_count": null,
   "metadata": {},
   "outputs": [],
   "source": [
    "os.chdir(original_cwd)\n",
    "cwd = os.getcwd() \n",
    "print(\"back to original working directory:\", cwd)"
   ]
  },
  {
   "cell_type": "markdown",
   "metadata": {},
   "source": [
    "## train\n",
    "\n",
    "speed benchmarks\n",
    "- SageMaker - 27.7 minutes!! per step - that was CPU only becuase CUDA 11.0 is not installed\n",
    "- ASUS 1080 TI - 0.7 sec (8 images/batch)\n",
    "- Dell Inspiron 1060 - 1.0  (4 images/batch, memory warnings)"
   ]
  },
  {
   "cell_type": "code",
   "execution_count": null,
   "metadata": {},
   "outputs": [],
   "source": [
    "!cp /home/ec2-user/SageMaker/tensorflow/models/research/object_detection/model_main_tf2.py ."
   ]
  },
  {
   "cell_type": "code",
   "execution_count": null,
   "metadata": {},
   "outputs": [],
   "source": [
    "os.chdir('/home/ec2-user/SageMaker/tensorflow/workspace/training_demo/')\n",
    "cwd = os.getcwd() \n",
    "print(\"Current working directory is:\", cwd)"
   ]
  },
  {
   "cell_type": "code",
   "execution_count": null,
   "metadata": {},
   "outputs": [],
   "source": [
    "!python model_main_tf2.py --model_dir=models/my_ssd_resnet50_v1_fpn --pipeline_config_path=models/my_ssd_resnet50_v1_fpn/pipeline.config"
   ]
  },
  {
   "cell_type": "markdown",
   "metadata": {},
   "source": [
    "## export\n",
    "\n",
    "https://medium.com/@sebastingarcaacosta/how-to-export-a-tensorflow-2-x-keras-model-to-a-frozen-and-optimized-graph-39740846d9eb"
   ]
  },
  {
   "cell_type": "code",
   "execution_count": null,
   "metadata": {},
   "outputs": [],
   "source": [
    "!ls {HOME}/projects/tensorflow/models/research/object_detection/exp*.py"
   ]
  },
  {
   "cell_type": "code",
   "execution_count": null,
   "metadata": {},
   "outputs": [],
   "source": [
    "os.chdir(TRAINING_DEMO)\n",
    "cwd = os.getcwd() \n",
    "print(\"Current working directory is:\", cwd)"
   ]
  },
  {
   "cell_type": "code",
   "execution_count": null,
   "metadata": {},
   "outputs": [],
   "source": [
    "# my_ssd_resnet50_v1_fpn\n",
    "# LAPTOP config\n",
    "!ls\n",
    "!python ./exporter_main_v2.py --input_type image_tensor --pipeline_config_path ./models/my_ssd_resnet50_v1_fpn/laptop_pipeline.config --trained_checkpoint_dir ./models/my_ssd_resnet50_v1_fpn/ --output_directory ./exported-models/resnet50_640"
   ]
  },
  {
   "cell_type": "code",
   "execution_count": null,
   "metadata": {},
   "outputs": [],
   "source": [
    "!ls {TRAINING_DEMO}/exported-models/resnet50_640\n",
    "!ls {TRAINING_DEMO}/exported-models/resnet50_640/checkpoint -l\n",
    "!ls {TRAINING_DEMO}/exported-models/resnet50_640/saved_model -l"
   ]
  },
  {
   "cell_type": "code",
   "execution_count": null,
   "metadata": {},
   "outputs": [],
   "source": [
    "# no $ in the command line\n",
    "# add $ in the passed variables?\n",
    "\n",
    "!python {MODEL_RESEARCH}/object_detection/export_inference_graph.py \\\n",
    "  --input_type image_tensor \\\n",
    "  --pipeline_config_path=\"{PIPELINE_CONFIG}\" \\ \\\n",
    "  --trained_checkpoint_prefix=\"{TRAINED_EXPORT}/ckpt-0\" \\\n",
    "  --output_directory=\"{INFERENCE_GRAPH}\""
   ]
  },
  {
   "cell_type": "code",
   "execution_count": null,
   "metadata": {},
   "outputs": [],
   "source": [
    "#path of the directory where you want to save your model\n",
    "frozen_out_path = INFERENCE_GRAPH\n",
    "# name of the .pb file\n",
    "frozen_graph_filename = \"frozen_graph\"\n",
    "model_path = '/home/jay/projects/tensorflow/workspace/training_demo/exported-models/resnet50_640/saved_model'\n",
    "\n",
    "loaded_model = tf.keras.models.load_model('/home/jay/projects/tensorflow/workspace/training_demo/exported-models/resnet50_640/saved_model/')\n",
    "\n",
    "# tf.keras.models.load_model(model_path, custom_objects=None, compile=True, options=None)"
   ]
  },
  {
   "cell_type": "code",
   "execution_count": null,
   "metadata": {},
   "outputs": [],
   "source": [
    "# Convert Keras model to ConcreteFunction\n",
    "full_model = tf.function(lambda x: model(x))\n",
    "full_model = full_model.get_concrete_function(\n",
    "    tf.TensorSpec(model.inputs[0].shape, model.inputs[0].dtype))"
   ]
  },
  {
   "cell_type": "code",
   "execution_count": null,
   "metadata": {},
   "outputs": [],
   "source": [
    "!ls {model_path} -l\n",
    "model = tf.compat.v2.saved_model.load(export_dir=model_path)\n",
    "print (type(model))"
   ]
  },
  {
   "cell_type": "code",
   "execution_count": null,
   "metadata": {},
   "outputs": [],
   "source": [
    "# Convert Keras model to ConcreteFunction\n",
    "full_model = tf.function(lambda x: model(x))\n",
    "full_model = full_model.get_concrete_function(\n",
    "    tf.TensorSpec(model.inputs[0].shape, model.inputs[0].dtype))"
   ]
  },
  {
   "cell_type": "code",
   "execution_count": null,
   "metadata": {},
   "outputs": [],
   "source": [
    "!saved_model_cli show --dir {model_path} --all"
   ]
  },
  {
   "cell_type": "code",
   "execution_count": null,
   "metadata": {},
   "outputs": [],
   "source": []
  }
 ],
 "metadata": {
  "kernelspec": {
   "display_name": "Python37 (tf24)",
   "language": "python",
   "name": "tf24"
  },
  "language_info": {
   "codemirror_mode": {
    "name": "ipython",
    "version": 3
   },
   "file_extension": ".py",
   "mimetype": "text/x-python",
   "name": "python",
   "nbconvert_exporter": "python",
   "pygments_lexer": "ipython3",
   "version": "3.7.9"
  }
 },
 "nbformat": 4,
 "nbformat_minor": 4
}
