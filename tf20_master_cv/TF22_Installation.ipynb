{
 "cells": [
  {
   "cell_type": "markdown",
   "metadata": {},
   "source": [
    "# TensorFlow 2.2 installation\n",
    "\n",
    "Warning - SageMaker is often behind in versions.\n",
    "\n",
    "20201210 - SageMaker was on version 2.0.2\n",
    "20201218 - SageMaker was on version 2.1\n",
    "\n",
    "Anaconda on 20201210 was on version 2.2.   Meaning, if you:  \n",
    "```\n",
    "conda install tensflow-gpu\n",
    "```\n",
    "you'll get 2.2.   (not 2.3 or 2.4;   2.4 is the current - on 20201218)\n",
    "\n",
    "Thus, don't use conda, use pip.   These packages were not installed with conda, they were installed with pip"
   ]
  },
  {
   "cell_type": "code",
   "execution_count": 14,
   "metadata": {},
   "outputs": [],
   "source": [
    "import tensorflow as tf"
   ]
  },
  {
   "cell_type": "code",
   "execution_count": 15,
   "metadata": {},
   "outputs": [
    {
     "name": "stdout",
     "output_type": "stream",
     "text": [
      "2.4.0\n"
     ]
    }
   ],
   "source": [
    "print (tf.__version__)"
   ]
  },
  {
   "cell_type": "code",
   "execution_count": 16,
   "metadata": {},
   "outputs": [
    {
     "name": "stdout",
     "output_type": "stream",
     "text": [
      "Found existing installation: tensorflow 2.4.0\n",
      "Uninstalling tensorflow-2.4.0:\n",
      "  Successfully uninstalled tensorflow-2.4.0\n"
     ]
    }
   ],
   "source": [
    "!pip uninstall -y tensorflow"
   ]
  },
  {
   "cell_type": "code",
   "execution_count": 17,
   "metadata": {},
   "outputs": [
    {
     "name": "stdout",
     "output_type": "stream",
     "text": [
      "Found existing installation: tensorflow-gpu 2.4.0\n",
      "Uninstalling tensorflow-gpu-2.4.0:\n",
      "  Successfully uninstalled tensorflow-gpu-2.4.0\n"
     ]
    }
   ],
   "source": [
    "!pip uninstall -y tensorflow-gpu"
   ]
  },
  {
   "cell_type": "code",
   "execution_count": 19,
   "metadata": {},
   "outputs": [
    {
     "name": "stdout",
     "output_type": "stream",
     "text": [
      "Collecting tensorflow-gpu==2.4\n",
      "  Using cached tensorflow_gpu-2.4.0-cp36-cp36m-manylinux2010_x86_64.whl (394.7 MB)\n",
      "Requirement already satisfied: wrapt~=1.12.1 in /home/ec2-user/anaconda3/envs/tensorflow2_p36/lib/python3.6/site-packages (from tensorflow-gpu==2.4) (1.12.1)\n",
      "Requirement already satisfied: termcolor~=1.1.0 in /home/ec2-user/anaconda3/envs/tensorflow2_p36/lib/python3.6/site-packages (from tensorflow-gpu==2.4) (1.1.0)\n",
      "Requirement already satisfied: absl-py~=0.10 in /home/ec2-user/anaconda3/envs/tensorflow2_p36/lib/python3.6/site-packages (from tensorflow-gpu==2.4) (0.11.0)\n",
      "Requirement already satisfied: h5py~=2.10.0 in /home/ec2-user/anaconda3/envs/tensorflow2_p36/lib/python3.6/site-packages (from tensorflow-gpu==2.4) (2.10.0)\n",
      "Requirement already satisfied: numpy~=1.19.2 in /home/ec2-user/anaconda3/envs/tensorflow2_p36/lib/python3.6/site-packages (from tensorflow-gpu==2.4) (1.19.4)\n",
      "Requirement already satisfied: astunparse~=1.6.3 in /home/ec2-user/anaconda3/envs/tensorflow2_p36/lib/python3.6/site-packages (from tensorflow-gpu==2.4) (1.6.3)\n",
      "Requirement already satisfied: six~=1.15.0 in /home/ec2-user/anaconda3/envs/tensorflow2_p36/lib/python3.6/site-packages (from tensorflow-gpu==2.4) (1.15.0)\n",
      "Requirement already satisfied: keras-preprocessing~=1.1.2 in /home/ec2-user/anaconda3/envs/tensorflow2_p36/lib/python3.6/site-packages (from tensorflow-gpu==2.4) (1.1.2)\n",
      "Requirement already satisfied: opt-einsum~=3.3.0 in /home/ec2-user/anaconda3/envs/tensorflow2_p36/lib/python3.6/site-packages (from tensorflow-gpu==2.4) (3.3.0)\n",
      "Requirement already satisfied: wheel~=0.35 in /home/ec2-user/anaconda3/envs/tensorflow2_p36/lib/python3.6/site-packages (from tensorflow-gpu==2.4) (0.36.2)\n",
      "Requirement already satisfied: tensorflow-estimator<2.5.0,>=2.4.0rc0 in /home/ec2-user/anaconda3/envs/tensorflow2_p36/lib/python3.6/site-packages (from tensorflow-gpu==2.4) (2.4.0)\n",
      "Requirement already satisfied: flatbuffers~=1.12.0 in /home/ec2-user/anaconda3/envs/tensorflow2_p36/lib/python3.6/site-packages (from tensorflow-gpu==2.4) (1.12)\n",
      "Requirement already satisfied: protobuf>=3.9.2 in /home/ec2-user/anaconda3/envs/tensorflow2_p36/lib/python3.6/site-packages (from tensorflow-gpu==2.4) (3.14.0)\n",
      "Requirement already satisfied: tensorboard~=2.4 in /home/ec2-user/anaconda3/envs/tensorflow2_p36/lib/python3.6/site-packages (from tensorflow-gpu==2.4) (2.4.0)\n",
      "Requirement already satisfied: google-pasta~=0.2 in /home/ec2-user/anaconda3/envs/tensorflow2_p36/lib/python3.6/site-packages (from tensorflow-gpu==2.4) (0.2.0)\n",
      "Requirement already satisfied: gast==0.3.3 in /home/ec2-user/anaconda3/envs/tensorflow2_p36/lib/python3.6/site-packages (from tensorflow-gpu==2.4) (0.3.3)\n",
      "Requirement already satisfied: grpcio~=1.32.0 in /home/ec2-user/anaconda3/envs/tensorflow2_p36/lib/python3.6/site-packages (from tensorflow-gpu==2.4) (1.32.0)\n",
      "Requirement already satisfied: typing-extensions~=3.7.4 in /home/ec2-user/anaconda3/envs/tensorflow2_p36/lib/python3.6/site-packages (from tensorflow-gpu==2.4) (3.7.4.3)\n",
      "Requirement already satisfied: google-auth<2,>=1.6.3 in /home/ec2-user/anaconda3/envs/tensorflow2_p36/lib/python3.6/site-packages (from tensorboard~=2.4->tensorflow-gpu==2.4) (1.23.0)\n",
      "Requirement already satisfied: google-auth-oauthlib<0.5,>=0.4.1 in /home/ec2-user/anaconda3/envs/tensorflow2_p36/lib/python3.6/site-packages (from tensorboard~=2.4->tensorflow-gpu==2.4) (0.4.2)\n",
      "Requirement already satisfied: markdown>=2.6.8 in /home/ec2-user/anaconda3/envs/tensorflow2_p36/lib/python3.6/site-packages (from tensorboard~=2.4->tensorflow-gpu==2.4) (3.3.3)\n",
      "Requirement already satisfied: werkzeug>=0.11.15 in /home/ec2-user/anaconda3/envs/tensorflow2_p36/lib/python3.6/site-packages (from tensorboard~=2.4->tensorflow-gpu==2.4) (1.0.0)\n",
      "Requirement already satisfied: setuptools>=41.0.0 in /home/ec2-user/anaconda3/envs/tensorflow2_p36/lib/python3.6/site-packages (from tensorboard~=2.4->tensorflow-gpu==2.4) (45.2.0.post20200210)\n",
      "Requirement already satisfied: tensorboard-plugin-wit>=1.6.0 in /home/ec2-user/anaconda3/envs/tensorflow2_p36/lib/python3.6/site-packages (from tensorboard~=2.4->tensorflow-gpu==2.4) (1.7.0)\n",
      "Requirement already satisfied: requests<3,>=2.21.0 in /home/ec2-user/anaconda3/envs/tensorflow2_p36/lib/python3.6/site-packages (from tensorboard~=2.4->tensorflow-gpu==2.4) (2.25.1)\n",
      "Requirement already satisfied: rsa<5,>=3.1.4; python_version >= \"3.5\" in /home/ec2-user/anaconda3/envs/tensorflow2_p36/lib/python3.6/site-packages (from google-auth<2,>=1.6.3->tensorboard~=2.4->tensorflow-gpu==2.4) (4.5)\n",
      "Requirement already satisfied: pyasn1-modules>=0.2.1 in /home/ec2-user/anaconda3/envs/tensorflow2_p36/lib/python3.6/site-packages (from google-auth<2,>=1.6.3->tensorboard~=2.4->tensorflow-gpu==2.4) (0.2.8)\n",
      "Requirement already satisfied: cachetools<5.0,>=2.0.0 in /home/ec2-user/anaconda3/envs/tensorflow2_p36/lib/python3.6/site-packages (from google-auth<2,>=1.6.3->tensorboard~=2.4->tensorflow-gpu==2.4) (4.1.1)\n",
      "Requirement already satisfied: requests-oauthlib>=0.7.0 in /home/ec2-user/anaconda3/envs/tensorflow2_p36/lib/python3.6/site-packages (from google-auth-oauthlib<0.5,>=0.4.1->tensorboard~=2.4->tensorflow-gpu==2.4) (1.3.0)\n",
      "Requirement already satisfied: importlib-metadata; python_version < \"3.8\" in /home/ec2-user/anaconda3/envs/tensorflow2_p36/lib/python3.6/site-packages (from markdown>=2.6.8->tensorboard~=2.4->tensorflow-gpu==2.4) (1.5.0)\n",
      "Requirement already satisfied: certifi>=2017.4.17 in /home/ec2-user/anaconda3/envs/tensorflow2_p36/lib/python3.6/site-packages (from requests<3,>=2.21.0->tensorboard~=2.4->tensorflow-gpu==2.4) (2020.6.20)\n",
      "Requirement already satisfied: urllib3<1.27,>=1.21.1 in /home/ec2-user/anaconda3/envs/tensorflow2_p36/lib/python3.6/site-packages (from requests<3,>=2.21.0->tensorboard~=2.4->tensorflow-gpu==2.4) (1.25.10)\n",
      "Requirement already satisfied: idna<3,>=2.5 in /home/ec2-user/anaconda3/envs/tensorflow2_p36/lib/python3.6/site-packages (from requests<3,>=2.21.0->tensorboard~=2.4->tensorflow-gpu==2.4) (2.8)\n",
      "Requirement already satisfied: chardet<5,>=3.0.2 in /home/ec2-user/anaconda3/envs/tensorflow2_p36/lib/python3.6/site-packages (from requests<3,>=2.21.0->tensorboard~=2.4->tensorflow-gpu==2.4) (3.0.4)\n",
      "Requirement already satisfied: pyasn1>=0.1.3 in /home/ec2-user/anaconda3/envs/tensorflow2_p36/lib/python3.6/site-packages (from rsa<5,>=3.1.4; python_version >= \"3.5\"->google-auth<2,>=1.6.3->tensorboard~=2.4->tensorflow-gpu==2.4) (0.4.8)\n",
      "Requirement already satisfied: oauthlib>=3.0.0 in /home/ec2-user/anaconda3/envs/tensorflow2_p36/lib/python3.6/site-packages (from requests-oauthlib>=0.7.0->google-auth-oauthlib<0.5,>=0.4.1->tensorboard~=2.4->tensorflow-gpu==2.4) (3.1.0)\n",
      "Requirement already satisfied: zipp>=0.5 in /home/ec2-user/anaconda3/envs/tensorflow2_p36/lib/python3.6/site-packages (from importlib-metadata; python_version < \"3.8\"->markdown>=2.6.8->tensorboard~=2.4->tensorflow-gpu==2.4) (2.2.0)\n",
      "Installing collected packages: tensorflow-gpu\n",
      "Successfully installed tensorflow-gpu-2.4.0\n",
      "\u001b[33mWARNING: You are using pip version 20.0.2; however, version 20.3.3 is available.\n",
      "You should consider upgrading via the '/home/ec2-user/anaconda3/envs/tensorflow2_p36/bin/python -m pip install --upgrade pip' command.\u001b[0m\n"
     ]
    }
   ],
   "source": [
    "!pip install tensorflow-gpu==2.4\n"
   ]
  },
  {
   "cell_type": "code",
   "execution_count": 26,
   "metadata": {},
   "outputs": [],
   "source": [
    "import tensorflow as tf"
   ]
  },
  {
   "cell_type": "code",
   "execution_count": 27,
   "metadata": {},
   "outputs": [
    {
     "name": "stdout",
     "output_type": "stream",
     "text": [
      "2.4.0\n"
     ]
    }
   ],
   "source": [
    "print (tf.__version__)"
   ]
  },
  {
   "cell_type": "code",
   "execution_count": 28,
   "metadata": {},
   "outputs": [
    {
     "name": "stdout",
     "output_type": "stream",
     "text": [
      "Please install GPU version of TF\n"
     ]
    }
   ],
   "source": [
    "if tf.test.gpu_device_name():\n",
    "    print('Default GPU Device: {}'.format(tf.test.gpu_device_name()))\n",
    "else:\n",
    "    print(\"Please install GPU version of TF\")"
   ]
  },
  {
   "cell_type": "code",
   "execution_count": 29,
   "metadata": {},
   "outputs": [
    {
     "name": "stdout",
     "output_type": "stream",
     "text": [
      "0\n"
     ]
    }
   ],
   "source": [
    "physical_devices= tf.config.experimental.list_physical_devices('GPU')\n",
    "print(len(physical_devices))"
   ]
  },
  {
   "cell_type": "code",
   "execution_count": 30,
   "metadata": {},
   "outputs": [
    {
     "name": "stdout",
     "output_type": "stream",
     "text": [
      "[name: \"/device:CPU:0\"\n",
      "device_type: \"CPU\"\n",
      "memory_limit: 268435456\n",
      "locality {\n",
      "}\n",
      "incarnation: 17386870817293501223\n",
      "]\n"
     ]
    }
   ],
   "source": [
    "from tensorflow.python.client import device_lib\n",
    "print(device_lib.list_local_devices())"
   ]
  },
  {
   "cell_type": "markdown",
   "metadata": {},
   "source": [
    "## Verify Tensorflow Installation\n",
    "This does NOT verify GPU by the way"
   ]
  },
  {
   "cell_type": "code",
   "execution_count": 3,
   "metadata": {},
   "outputs": [
    {
     "name": "stdout",
     "output_type": "stream",
     "text": [
      "tf.Tensor(-115.072586, shape=(), dtype=float32)\n"
     ]
    }
   ],
   "source": [
    "print(tf.reduce_sum(tf.random.normal([1000, 1000])))"
   ]
  },
  {
   "cell_type": "markdown",
   "metadata": {},
   "source": [
    "## pycocotools\n",
    "Verify you can install - I had to install on SageMaker manually.  \n",
    "Not sure what's going to happen on a new SageMaker notebook instance yet."
   ]
  },
  {
   "cell_type": "code",
   "execution_count": 12,
   "metadata": {},
   "outputs": [],
   "source": [
    "import pycocotools"
   ]
  },
  {
   "cell_type": "markdown",
   "metadata": {},
   "source": [
    "## Object Detection API\n",
    "this was a mix of command line and doing the final install here.  \n",
    "Not sure what's going to happend on a new SageMaker notebook instance yet."
   ]
  },
  {
   "cell_type": "code",
   "execution_count": 7,
   "metadata": {},
   "outputs": [],
   "source": [
    "import os\n",
    "import sys"
   ]
  },
  {
   "cell_type": "code",
   "execution_count": 8,
   "metadata": {},
   "outputs": [
    {
     "name": "stdout",
     "output_type": "stream",
     "text": [
      "Current working directory is: /home/ec2-user/SageMaker/tensorflow/models/research\n"
     ]
    }
   ],
   "source": [
    "os.chdir('/home/ec2-user/SageMaker/tensorflow/models/research/')\n",
    "cwd = os.getcwd() \n",
    "print(\"Current working directory is:\", cwd)"
   ]
  },
  {
   "cell_type": "code",
   "execution_count": 9,
   "metadata": {},
   "outputs": [
    {
     "name": "stdout",
     "output_type": "stream",
     "text": [
      "Processing /home/ec2-user/SageMaker/tensorflow/models/research\n",
      "Processing /home/ec2-user/.cache/pip/wheels/e5/61/57/c8a8c1d1155f720f2bf7182c25b0937303698c6693aee22b55/avro_python3-1.10.1-py3-none-any.whl\n",
      "Collecting apache-beam\n",
      "  Using cached apache_beam-2.26.0-cp36-cp36m-manylinux2010_x86_64.whl (8.9 MB)\n",
      "Requirement already satisfied: pillow in /home/ec2-user/anaconda3/envs/tensorflow2_p36/lib/python3.6/site-packages (from object-detection==0.1) (7.0.0)\n",
      "Requirement already satisfied: lxml in /home/ec2-user/anaconda3/envs/tensorflow2_p36/lib/python3.6/site-packages (from object-detection==0.1) (4.5.0)\n",
      "Requirement already satisfied: matplotlib in /home/ec2-user/anaconda3/envs/tensorflow2_p36/lib/python3.6/site-packages (from object-detection==0.1) (3.1.3)\n",
      "Requirement already satisfied: Cython in /home/ec2-user/anaconda3/envs/tensorflow2_p36/lib/python3.6/site-packages (from object-detection==0.1) (0.29.15)\n",
      "Requirement already satisfied: contextlib2 in /home/ec2-user/anaconda3/envs/tensorflow2_p36/lib/python3.6/site-packages (from object-detection==0.1) (0.6.0.post1)\n",
      "Collecting tf-slim\n",
      "  Using cached tf_slim-1.1.0-py2.py3-none-any.whl (352 kB)\n",
      "Requirement already satisfied: six in /home/ec2-user/anaconda3/envs/tensorflow2_p36/lib/python3.6/site-packages (from object-detection==0.1) (1.15.0)\n",
      "Processing /home/ec2-user/.cache/pip/wheels/d8/c2/ba/8f5306f921c2e79ad7b09effdfed6bd966cfcf8c6fe55422d6/pycocotools-2.0.2-cp36-cp36m-linux_x86_64.whl\n",
      "Collecting lvis\n",
      "  Using cached lvis-0.5.3-py3-none-any.whl (14 kB)\n",
      "Requirement already satisfied: scipy in /home/ec2-user/anaconda3/envs/tensorflow2_p36/lib/python3.6/site-packages (from object-detection==0.1) (1.4.1)\n",
      "Requirement already satisfied: pandas in /home/ec2-user/anaconda3/envs/tensorflow2_p36/lib/python3.6/site-packages (from object-detection==0.1) (1.0.1)\n",
      "Collecting tf-models-official\n",
      "  Using cached tf_models_official-2.3.0-py2.py3-none-any.whl (840 kB)\n",
      "Requirement already satisfied: numpy<2,>=1.14.3 in /home/ec2-user/anaconda3/envs/tensorflow2_p36/lib/python3.6/site-packages (from apache-beam->object-detection==0.1) (1.19.4)\n",
      "Requirement already satisfied: grpcio<2,>=1.29.0 in /home/ec2-user/anaconda3/envs/tensorflow2_p36/lib/python3.6/site-packages (from apache-beam->object-detection==0.1) (1.32.0)\n",
      "Collecting mock<3.0.0,>=1.0.1\n",
      "  Using cached mock-2.0.0-py2.py3-none-any.whl (56 kB)\n",
      "Processing /home/ec2-user/.cache/pip/wheels/09/84/74/d2b4feb9ac9488bc83c475cb2cbe8e8b7d9cea8320d32f3787/dill-0.3.1.1-py3-none-any.whl\n",
      "Collecting httplib2<0.18.0,>=0.8\n",
      "  Using cached httplib2-0.17.4-py3-none-any.whl (95 kB)\n",
      "Collecting pymongo<4.0.0,>=3.8.0\n",
      "  Using cached pymongo-3.11.2-cp36-cp36m-manylinux2014_x86_64.whl (509 kB)\n",
      "Collecting pyarrow<0.18.0,>=0.15.1\n",
      "  Using cached pyarrow-0.17.1-cp36-cp36m-manylinux2014_x86_64.whl (63.8 MB)\n",
      "Collecting requests<3.0.0,>=2.24.0\n",
      "  Downloading requests-2.25.1-py2.py3-none-any.whl (61 kB)\n",
      "\u001b[K     |████████████████████████████████| 61 kB 7.0 MB/s  eta 0:00:01\n",
      "\u001b[?25hCollecting pydot<2,>=1.2.0\n",
      "  Using cached pydot-1.4.1-py2.py3-none-any.whl (19 kB)\n",
      "Requirement already satisfied: python-dateutil<3,>=2.8.0 in /home/ec2-user/anaconda3/envs/tensorflow2_p36/lib/python3.6/site-packages (from apache-beam->object-detection==0.1) (2.8.1)\n",
      "Processing /home/ec2-user/.cache/pip/wheels/3e/0c/c3/26ad975f80274d6bf73ed4d8facd055648f452428bc1623283/hdfs-2.5.8-py3-none-any.whl\n",
      "Processing /home/ec2-user/.cache/pip/wheels/ac/bb/07/adfb4ffd0aaace2022ea25c082a7cdc688b10d30e86d6d2fde/crcmod-1.7-cp36-cp36m-linux_x86_64.whl\n",
      "Requirement already satisfied: typing-extensions<3.8.0,>=3.7.0 in /home/ec2-user/anaconda3/envs/tensorflow2_p36/lib/python3.6/site-packages (from apache-beam->object-detection==0.1) (3.7.4.3)\n",
      "Requirement already satisfied: future<1.0.0,>=0.18.2 in /home/ec2-user/anaconda3/envs/tensorflow2_p36/lib/python3.6/site-packages (from apache-beam->object-detection==0.1) (0.18.2)\n",
      "Collecting fastavro<2,>=0.21.4\n",
      "  Using cached fastavro-1.2.1-cp36-cp36m-manylinux2014_x86_64.whl (2.0 MB)\n",
      "Requirement already satisfied: pytz>=2018.3 in /home/ec2-user/anaconda3/envs/tensorflow2_p36/lib/python3.6/site-packages (from apache-beam->object-detection==0.1) (2019.3)\n",
      "Requirement already satisfied: protobuf<4,>=3.12.2 in /home/ec2-user/anaconda3/envs/tensorflow2_p36/lib/python3.6/site-packages (from apache-beam->object-detection==0.1) (3.14.0)\n",
      "Collecting oauth2client<5,>=2.0.1\n",
      "  Using cached oauth2client-4.1.3-py2.py3-none-any.whl (98 kB)\n",
      "Requirement already satisfied: pyparsing!=2.0.4,!=2.1.2,!=2.1.6,>=2.0.1 in /home/ec2-user/anaconda3/envs/tensorflow2_p36/lib/python3.6/site-packages (from matplotlib->object-detection==0.1) (2.4.6)\n",
      "Requirement already satisfied: cycler>=0.10 in /home/ec2-user/anaconda3/envs/tensorflow2_p36/lib/python3.6/site-packages (from matplotlib->object-detection==0.1) (0.10.0)\n",
      "Requirement already satisfied: kiwisolver>=1.0.1 in /home/ec2-user/anaconda3/envs/tensorflow2_p36/lib/python3.6/site-packages (from matplotlib->object-detection==0.1) (1.1.0)\n",
      "Requirement already satisfied: absl-py>=0.2.2 in /home/ec2-user/anaconda3/envs/tensorflow2_p36/lib/python3.6/site-packages (from tf-slim->object-detection==0.1) (0.11.0)\n",
      "Requirement already satisfied: setuptools>=18.0 in /home/ec2-user/anaconda3/envs/tensorflow2_p36/lib/python3.6/site-packages (from pycocotools->object-detection==0.1) (45.2.0.post20200210)\n",
      "Requirement already satisfied: opencv-python>=4.1.0.25 in /home/ec2-user/anaconda3/envs/tensorflow2_p36/lib/python3.6/site-packages (from lvis->object-detection==0.1) (4.2.0.32)\n",
      "Processing /home/ec2-user/.cache/pip/wheels/1c/dd/dd/c493e6f981182c1411e288c553310f76e212bac3afbdac1294/kaggle-1.5.10-py3-none-any.whl\n",
      "Collecting gin-config\n",
      "  Using cached gin_config-0.4.0-py2.py3-none-any.whl (46 kB)\n",
      "Collecting dataclasses\n",
      "  Using cached dataclasses-0.8-py3-none-any.whl (19 kB)\n",
      "Collecting opencv-python-headless\n",
      "  Using cached opencv_python_headless-4.4.0.46-cp36-cp36m-manylinux2014_x86_64.whl (36.7 MB)\n",
      "Collecting tensorflow-datasets\n",
      "  Using cached tensorflow_datasets-4.1.0-py3-none-any.whl (3.6 MB)\n",
      "Collecting tensorflow-hub>=0.6.0\n",
      "  Using cached tensorflow_hub-0.10.0-py2.py3-none-any.whl (107 kB)\n",
      "Collecting sentencepiece\n",
      "  Using cached sentencepiece-0.1.94-cp36-cp36m-manylinux2014_x86_64.whl (1.1 MB)\n",
      "Requirement already satisfied: psutil>=5.4.3 in /home/ec2-user/anaconda3/envs/tensorflow2_p36/lib/python3.6/site-packages (from tf-models-official->object-detection==0.1) (5.6.7)\n",
      "Collecting tensorflow-addons\n",
      "  Using cached tensorflow_addons-0.11.2-cp36-cp36m-manylinux2010_x86_64.whl (1.1 MB)\n",
      "Collecting google-cloud-bigquery>=0.31.0\n",
      "  Using cached google_cloud_bigquery-2.6.1-py2.py3-none-any.whl (211 kB)\n",
      "Collecting google-api-python-client>=1.6.7\n",
      "  Using cached google_api_python_client-1.12.8-py2.py3-none-any.whl (61 kB)\n",
      "Processing /home/ec2-user/.cache/pip/wheels/46/6d/cc/73a126dc2e09fe56fcec0a7386d255762611fbed1c86d3bbcc/py_cpuinfo-7.0.0-py3-none-any.whl\n",
      "Requirement already satisfied: pyyaml in /home/ec2-user/anaconda3/envs/tensorflow2_p36/lib/python3.6/site-packages (from tf-models-official->object-detection==0.1) (5.3.1)\n",
      "Collecting tensorflow>=2.3.0\n",
      "  Using cached tensorflow-2.4.0-cp36-cp36m-manylinux2010_x86_64.whl (394.7 MB)\n",
      "Collecting tensorflow-model-optimization>=0.2.1\n",
      "  Using cached tensorflow_model_optimization-0.5.0-py2.py3-none-any.whl (172 kB)\n",
      "Collecting pbr>=0.11\n",
      "  Using cached pbr-5.5.1-py2.py3-none-any.whl (106 kB)\n",
      "Requirement already satisfied: chardet<5,>=3.0.2 in /home/ec2-user/anaconda3/envs/tensorflow2_p36/lib/python3.6/site-packages (from requests<3.0.0,>=2.24.0->apache-beam->object-detection==0.1) (3.0.4)\n",
      "Requirement already satisfied: urllib3<1.27,>=1.21.1 in /home/ec2-user/anaconda3/envs/tensorflow2_p36/lib/python3.6/site-packages (from requests<3.0.0,>=2.24.0->apache-beam->object-detection==0.1) (1.25.10)\n",
      "Requirement already satisfied: certifi>=2017.4.17 in /home/ec2-user/anaconda3/envs/tensorflow2_p36/lib/python3.6/site-packages (from requests<3.0.0,>=2.24.0->apache-beam->object-detection==0.1) (2020.6.20)\n",
      "Requirement already satisfied: idna<3,>=2.5 in /home/ec2-user/anaconda3/envs/tensorflow2_p36/lib/python3.6/site-packages (from requests<3.0.0,>=2.24.0->apache-beam->object-detection==0.1) (2.8)\n",
      "Requirement already satisfied: docopt in /home/ec2-user/anaconda3/envs/tensorflow2_p36/lib/python3.6/site-packages (from hdfs<3.0.0,>=2.1.0->apache-beam->object-detection==0.1) (0.6.2)\n",
      "Requirement already satisfied: rsa>=3.1.4 in /home/ec2-user/anaconda3/envs/tensorflow2_p36/lib/python3.6/site-packages (from oauth2client<5,>=2.0.1->apache-beam->object-detection==0.1) (4.5)\n",
      "Requirement already satisfied: pyasn1-modules>=0.0.5 in /home/ec2-user/anaconda3/envs/tensorflow2_p36/lib/python3.6/site-packages (from oauth2client<5,>=2.0.1->apache-beam->object-detection==0.1) (0.2.8)\n",
      "Requirement already satisfied: pyasn1>=0.1.7 in /home/ec2-user/anaconda3/envs/tensorflow2_p36/lib/python3.6/site-packages (from oauth2client<5,>=2.0.1->apache-beam->object-detection==0.1) (0.4.8)\n",
      "Processing /home/ec2-user/.cache/pip/wheels/72/e6/db/122611605e60148f54ee2abaca98b2bbeafc6e22486a867bad/python_slugify-4.0.1-py2.py3-none-any.whl\n",
      "Requirement already satisfied: tqdm in /home/ec2-user/anaconda3/envs/tensorflow2_p36/lib/python3.6/site-packages (from kaggle>=1.3.9->tf-models-official->object-detection==0.1) (4.42.1)\n",
      "Collecting importlib-resources; python_version < \"3.9\"\n",
      "  Using cached importlib_resources-3.3.0-py2.py3-none-any.whl (26 kB)\n",
      "Processing /home/ec2-user/.cache/pip/wheels/59/9a/1d/3f1afbbb5122d0410547bf9eb50955f4a7a98e53a6d8b99bd1/promise-2.3-py3-none-any.whl\n",
      "Requirement already satisfied: termcolor in /home/ec2-user/anaconda3/envs/tensorflow2_p36/lib/python3.6/site-packages (from tensorflow-datasets->tf-models-official->object-detection==0.1) (1.1.0)\n",
      "Collecting tensorflow-metadata\n",
      "  Using cached tensorflow_metadata-0.26.0-py3-none-any.whl (47 kB)\n",
      "Requirement already satisfied: attrs>=18.1.0 in /home/ec2-user/anaconda3/envs/tensorflow2_p36/lib/python3.6/site-packages (from tensorflow-datasets->tf-models-official->object-detection==0.1) (19.3.0)\n",
      "Collecting typeguard>=2.7\n",
      "  Using cached typeguard-2.10.0-py3-none-any.whl (16 kB)\n",
      "Collecting google-cloud-core<2.0dev,>=1.4.1\n",
      "  Using cached google_cloud_core-1.5.0-py2.py3-none-any.whl (27 kB)\n",
      "Collecting google-api-core[grpc]<2.0.0dev,>=1.23.0\n",
      "  Using cached google_api_core-1.24.1-py2.py3-none-any.whl (92 kB)\n",
      "Processing /home/ec2-user/.cache/pip/wheels/5a/76/e1/dd2dc8192e9a6b687d8c7550acc7c8edf059a4f16296e7ea89/proto_plus-1.13.0-py3-none-any.whl\n",
      "Collecting google-resumable-media<2.0dev,>=0.6.0\n",
      "  Using cached google_resumable_media-1.2.0-py2.py3-none-any.whl (75 kB)\n",
      "Collecting google-auth-httplib2>=0.0.3\n",
      "  Using cached google_auth_httplib2-0.0.4-py2.py3-none-any.whl (9.1 kB)\n",
      "Requirement already satisfied: google-auth>=1.16.0 in /home/ec2-user/anaconda3/envs/tensorflow2_p36/lib/python3.6/site-packages (from google-api-python-client>=1.6.7->tf-models-official->object-detection==0.1) (1.23.0)\n",
      "Collecting uritemplate<4dev,>=3.0.0\n",
      "  Using cached uritemplate-3.0.1-py2.py3-none-any.whl (15 kB)\n",
      "Requirement already satisfied: google-pasta~=0.2 in /home/ec2-user/anaconda3/envs/tensorflow2_p36/lib/python3.6/site-packages (from tensorflow>=2.3.0->tf-models-official->object-detection==0.1) (0.2.0)\n",
      "Requirement already satisfied: tensorflow-estimator<2.5.0,>=2.4.0rc0 in /home/ec2-user/anaconda3/envs/tensorflow2_p36/lib/python3.6/site-packages (from tensorflow>=2.3.0->tf-models-official->object-detection==0.1) (2.4.0)\n",
      "Requirement already satisfied: wrapt~=1.12.1 in /home/ec2-user/anaconda3/envs/tensorflow2_p36/lib/python3.6/site-packages (from tensorflow>=2.3.0->tf-models-official->object-detection==0.1) (1.12.1)\n",
      "Requirement already satisfied: h5py~=2.10.0 in /home/ec2-user/anaconda3/envs/tensorflow2_p36/lib/python3.6/site-packages (from tensorflow>=2.3.0->tf-models-official->object-detection==0.1) (2.10.0)\n",
      "Requirement already satisfied: astunparse~=1.6.3 in /home/ec2-user/anaconda3/envs/tensorflow2_p36/lib/python3.6/site-packages (from tensorflow>=2.3.0->tf-models-official->object-detection==0.1) (1.6.3)\n",
      "Requirement already satisfied: opt-einsum~=3.3.0 in /home/ec2-user/anaconda3/envs/tensorflow2_p36/lib/python3.6/site-packages (from tensorflow>=2.3.0->tf-models-official->object-detection==0.1) (3.3.0)\n",
      "Requirement already satisfied: gast==0.3.3 in /home/ec2-user/anaconda3/envs/tensorflow2_p36/lib/python3.6/site-packages (from tensorflow>=2.3.0->tf-models-official->object-detection==0.1) (0.3.3)\n",
      "Requirement already satisfied: wheel~=0.35 in /home/ec2-user/anaconda3/envs/tensorflow2_p36/lib/python3.6/site-packages (from tensorflow>=2.3.0->tf-models-official->object-detection==0.1) (0.36.2)\n",
      "Requirement already satisfied: keras-preprocessing~=1.1.2 in /home/ec2-user/anaconda3/envs/tensorflow2_p36/lib/python3.6/site-packages (from tensorflow>=2.3.0->tf-models-official->object-detection==0.1) (1.1.2)\n",
      "Requirement already satisfied: flatbuffers~=1.12.0 in /home/ec2-user/anaconda3/envs/tensorflow2_p36/lib/python3.6/site-packages (from tensorflow>=2.3.0->tf-models-official->object-detection==0.1) (1.12)\n",
      "Requirement already satisfied: tensorboard~=2.4 in /home/ec2-user/anaconda3/envs/tensorflow2_p36/lib/python3.6/site-packages (from tensorflow>=2.3.0->tf-models-official->object-detection==0.1) (2.4.0)\n",
      "Collecting dm-tree~=0.1.1\n",
      "  Using cached dm_tree-0.1.5-cp36-cp36m-manylinux1_x86_64.whl (294 kB)\n",
      "Collecting text-unidecode>=1.3\n",
      "  Using cached text_unidecode-1.3-py2.py3-none-any.whl (78 kB)\n",
      "Requirement already satisfied: zipp>=0.4; python_version < \"3.8\" in /home/ec2-user/anaconda3/envs/tensorflow2_p36/lib/python3.6/site-packages (from importlib-resources; python_version < \"3.9\"->tensorflow-datasets->tf-models-official->object-detection==0.1) (2.2.0)\n",
      "Collecting googleapis-common-protos<2,>=1.52.0\n",
      "  Using cached googleapis_common_protos-1.52.0-py2.py3-none-any.whl (100 kB)\n",
      "Collecting google-crc32c<2.0dev,>=1.0; python_version >= \"3.5\"\n",
      "  Using cached google_crc32c-1.1.0-cp36-cp36m-manylinux2010_x86_64.whl (39 kB)\n",
      "Requirement already satisfied: cachetools<5.0,>=2.0.0 in /home/ec2-user/anaconda3/envs/tensorflow2_p36/lib/python3.6/site-packages (from google-auth>=1.16.0->google-api-python-client>=1.6.7->tf-models-official->object-detection==0.1) (4.1.1)\n",
      "Requirement already satisfied: google-auth-oauthlib<0.5,>=0.4.1 in /home/ec2-user/anaconda3/envs/tensorflow2_p36/lib/python3.6/site-packages (from tensorboard~=2.4->tensorflow>=2.3.0->tf-models-official->object-detection==0.1) (0.4.2)\n",
      "Requirement already satisfied: werkzeug>=0.11.15 in /home/ec2-user/anaconda3/envs/tensorflow2_p36/lib/python3.6/site-packages (from tensorboard~=2.4->tensorflow>=2.3.0->tf-models-official->object-detection==0.1) (1.0.0)\n",
      "Requirement already satisfied: markdown>=2.6.8 in /home/ec2-user/anaconda3/envs/tensorflow2_p36/lib/python3.6/site-packages (from tensorboard~=2.4->tensorflow>=2.3.0->tf-models-official->object-detection==0.1) (3.3.3)\n",
      "Requirement already satisfied: tensorboard-plugin-wit>=1.6.0 in /home/ec2-user/anaconda3/envs/tensorflow2_p36/lib/python3.6/site-packages (from tensorboard~=2.4->tensorflow>=2.3.0->tf-models-official->object-detection==0.1) (1.7.0)\n",
      "Requirement already satisfied: cffi>=1.0.0 in /home/ec2-user/anaconda3/envs/tensorflow2_p36/lib/python3.6/site-packages (from google-crc32c<2.0dev,>=1.0; python_version >= \"3.5\"->google-resumable-media<2.0dev,>=0.6.0->google-cloud-bigquery>=0.31.0->tf-models-official->object-detection==0.1) (1.14.0)\n",
      "Requirement already satisfied: requests-oauthlib>=0.7.0 in /home/ec2-user/anaconda3/envs/tensorflow2_p36/lib/python3.6/site-packages (from google-auth-oauthlib<0.5,>=0.4.1->tensorboard~=2.4->tensorflow>=2.3.0->tf-models-official->object-detection==0.1) (1.3.0)\n",
      "Requirement already satisfied: importlib-metadata; python_version < \"3.8\" in /home/ec2-user/anaconda3/envs/tensorflow2_p36/lib/python3.6/site-packages (from markdown>=2.6.8->tensorboard~=2.4->tensorflow>=2.3.0->tf-models-official->object-detection==0.1) (1.5.0)\n",
      "Requirement already satisfied: pycparser in /home/ec2-user/anaconda3/envs/tensorflow2_p36/lib/python3.6/site-packages (from cffi>=1.0.0->google-crc32c<2.0dev,>=1.0; python_version >= \"3.5\"->google-resumable-media<2.0dev,>=0.6.0->google-cloud-bigquery>=0.31.0->tf-models-official->object-detection==0.1) (2.19)\n",
      "Requirement already satisfied: oauthlib>=3.0.0 in /home/ec2-user/anaconda3/envs/tensorflow2_p36/lib/python3.6/site-packages (from requests-oauthlib>=0.7.0->google-auth-oauthlib<0.5,>=0.4.1->tensorboard~=2.4->tensorflow>=2.3.0->tf-models-official->object-detection==0.1) (3.1.0)\n",
      "Building wheels for collected packages: object-detection\n",
      "  Building wheel for object-detection (setup.py) ... \u001b[?25ldone\n",
      "\u001b[?25h  Created wheel for object-detection: filename=object_detection-0.1-py3-none-any.whl size=1607648 sha256=2bbd772bd6da170186fda641be3bb24a38d905aa238afb72760292aa87344406\n",
      "  Stored in directory: /tmp/pip-ephem-wheel-cache-tbcgl0yf/wheels/3b/d4/29/38c5f4b78784366dda0d84a5a995c1d62b36651e41de8bce01\n",
      "Successfully built object-detection\n",
      "\u001b[31mERROR: tensorflow-serving-api 2.1.0 has requirement tensorflow~=2.1.0, but you'll have tensorflow 2.4.0 which is incompatible.\u001b[0m\n",
      "\u001b[31mERROR: apache-beam 2.26.0 has requirement avro-python3!=1.9.2,<1.10.0,>=1.8.1, but you'll have avro-python3 1.10.1 which is incompatible.\u001b[0m\n",
      "\u001b[31mERROR: tensorflow-metadata 0.26.0 has requirement absl-py<0.11,>=0.9, but you'll have absl-py 0.11.0 which is incompatible.\u001b[0m\n",
      "Installing collected packages: avro-python3, pbr, mock, dill, httplib2, pymongo, pyarrow, requests, pydot, hdfs, crcmod, fastavro, oauth2client, apache-beam, tf-slim, pycocotools, lvis, text-unidecode, python-slugify, kaggle, gin-config, dataclasses, opencv-python-headless, importlib-resources, promise, googleapis-common-protos, tensorflow-metadata, tensorflow-datasets, tensorflow-hub, sentencepiece, typeguard, tensorflow-addons, google-api-core, google-cloud-core, proto-plus, google-crc32c, google-resumable-media, google-cloud-bigquery, google-auth-httplib2, uritemplate, google-api-python-client, py-cpuinfo, tensorflow, dm-tree, tensorflow-model-optimization, tf-models-official, object-detection\n",
      "  Attempting uninstall: mock\n",
      "    Found existing installation: mock 4.0.1\n",
      "    Uninstalling mock-4.0.1:\n",
      "      Successfully uninstalled mock-4.0.1\n",
      "  Attempting uninstall: requests\n",
      "    Found existing installation: requests 2.22.0\n",
      "    Uninstalling requests-2.22.0:\n",
      "      Successfully uninstalled requests-2.22.0\n",
      "Successfully installed apache-beam-2.26.0 avro-python3-1.10.1 crcmod-1.7 dataclasses-0.8 dill-0.3.1.1 dm-tree-0.1.5 fastavro-1.2.1 gin-config-0.4.0 google-api-core-1.24.1 google-api-python-client-1.12.8 google-auth-httplib2-0.0.4 google-cloud-bigquery-2.6.1 google-cloud-core-1.5.0 google-crc32c-1.1.0 google-resumable-media-1.2.0 googleapis-common-protos-1.52.0 hdfs-2.5.8 httplib2-0.17.4 importlib-resources-3.3.0 kaggle-1.5.10 lvis-0.5.3 mock-2.0.0 oauth2client-4.1.3 object-detection-0.1 opencv-python-headless-4.4.0.46 pbr-5.5.1 promise-2.3 proto-plus-1.13.0 py-cpuinfo-7.0.0 pyarrow-0.17.1 pycocotools-2.0.2 pydot-1.4.1 pymongo-3.11.2 python-slugify-4.0.1 requests-2.25.1 sentencepiece-0.1.94 tensorflow-2.4.0 tensorflow-addons-0.11.2 tensorflow-datasets-4.1.0 tensorflow-hub-0.10.0 tensorflow-metadata-0.26.0 tensorflow-model-optimization-0.5.0 text-unidecode-1.3 tf-models-official-2.3.0 tf-slim-1.1.0 typeguard-2.10.0 uritemplate-3.0.1\n",
      "\u001b[33mWARNING: You are using pip version 20.0.2; however, version 20.3.3 is available.\n",
      "You should consider upgrading via the '/home/ec2-user/anaconda3/envs/tensorflow2_p36/bin/python -m pip install --upgrade pip' command.\u001b[0m\n"
     ]
    }
   ],
   "source": [
    "# make sure your kernel is correct:  conda_tensorflow2_p36\n",
    "!python -m pip install ."
   ]
  },
  {
   "cell_type": "markdown",
   "metadata": {},
   "source": [
    "## Verification - Final\n",
    "run this to verify it's set up correctly"
   ]
  },
  {
   "cell_type": "code",
   "execution_count": 11,
   "metadata": {},
   "outputs": [
    {
     "name": "stdout",
     "output_type": "stream",
     "text": [
      "Running tests under Python 3.6.10: /home/ec2-user/anaconda3/envs/tensorflow2_p36/bin/python\n",
      "[ RUN      ] ModelBuilderTF2Test.test_create_center_net_model\n",
      "INFO:tensorflow:time(__main__.ModelBuilderTF2Test.test_create_center_net_model): 3.77s\n",
      "I1218 17:30:04.142837 140686708188992 test_util.py:2076] time(__main__.ModelBuilderTF2Test.test_create_center_net_model): 3.77s\n",
      "[       OK ] ModelBuilderTF2Test.test_create_center_net_model\n",
      "[ RUN      ] ModelBuilderTF2Test.test_create_experimental_model\n",
      "INFO:tensorflow:time(__main__.ModelBuilderTF2Test.test_create_experimental_model): 0.0s\n",
      "I1218 17:30:04.144239 140686708188992 test_util.py:2076] time(__main__.ModelBuilderTF2Test.test_create_experimental_model): 0.0s\n",
      "[       OK ] ModelBuilderTF2Test.test_create_experimental_model\n",
      "[ RUN      ] ModelBuilderTF2Test.test_create_faster_rcnn_from_config_with_crop_feature0 (True)\n",
      "INFO:tensorflow:time(__main__.ModelBuilderTF2Test.test_create_faster_rcnn_from_config_with_crop_feature0 (True)): 0.06s\n",
      "I1218 17:30:04.202645 140686708188992 test_util.py:2076] time(__main__.ModelBuilderTF2Test.test_create_faster_rcnn_from_config_with_crop_feature0 (True)): 0.06s\n",
      "[       OK ] ModelBuilderTF2Test.test_create_faster_rcnn_from_config_with_crop_feature0 (True)\n",
      "[ RUN      ] ModelBuilderTF2Test.test_create_faster_rcnn_from_config_with_crop_feature1 (False)\n",
      "INFO:tensorflow:time(__main__.ModelBuilderTF2Test.test_create_faster_rcnn_from_config_with_crop_feature1 (False)): 0.03s\n",
      "I1218 17:30:04.230597 140686708188992 test_util.py:2076] time(__main__.ModelBuilderTF2Test.test_create_faster_rcnn_from_config_with_crop_feature1 (False)): 0.03s\n",
      "[       OK ] ModelBuilderTF2Test.test_create_faster_rcnn_from_config_with_crop_feature1 (False)\n",
      "[ RUN      ] ModelBuilderTF2Test.test_create_faster_rcnn_model_from_config_with_example_miner\n",
      "INFO:tensorflow:time(__main__.ModelBuilderTF2Test.test_create_faster_rcnn_model_from_config_with_example_miner): 0.03s\n",
      "I1218 17:30:04.261143 140686708188992 test_util.py:2076] time(__main__.ModelBuilderTF2Test.test_create_faster_rcnn_model_from_config_with_example_miner): 0.03s\n",
      "[       OK ] ModelBuilderTF2Test.test_create_faster_rcnn_model_from_config_with_example_miner\n",
      "[ RUN      ] ModelBuilderTF2Test.test_create_faster_rcnn_models_from_config_faster_rcnn_with_matmul\n",
      "INFO:tensorflow:time(__main__.ModelBuilderTF2Test.test_create_faster_rcnn_models_from_config_faster_rcnn_with_matmul): 0.19s\n",
      "I1218 17:30:04.453712 140686708188992 test_util.py:2076] time(__main__.ModelBuilderTF2Test.test_create_faster_rcnn_models_from_config_faster_rcnn_with_matmul): 0.19s\n",
      "[       OK ] ModelBuilderTF2Test.test_create_faster_rcnn_models_from_config_faster_rcnn_with_matmul\n",
      "[ RUN      ] ModelBuilderTF2Test.test_create_faster_rcnn_models_from_config_faster_rcnn_without_matmul\n",
      "INFO:tensorflow:time(__main__.ModelBuilderTF2Test.test_create_faster_rcnn_models_from_config_faster_rcnn_without_matmul): 0.33s\n",
      "I1218 17:30:04.782360 140686708188992 test_util.py:2076] time(__main__.ModelBuilderTF2Test.test_create_faster_rcnn_models_from_config_faster_rcnn_without_matmul): 0.33s\n",
      "[       OK ] ModelBuilderTF2Test.test_create_faster_rcnn_models_from_config_faster_rcnn_without_matmul\n",
      "[ RUN      ] ModelBuilderTF2Test.test_create_faster_rcnn_models_from_config_mask_rcnn_with_matmul\n",
      "INFO:tensorflow:time(__main__.ModelBuilderTF2Test.test_create_faster_rcnn_models_from_config_mask_rcnn_with_matmul): 0.19s\n",
      "I1218 17:30:04.975838 140686708188992 test_util.py:2076] time(__main__.ModelBuilderTF2Test.test_create_faster_rcnn_models_from_config_mask_rcnn_with_matmul): 0.19s\n",
      "[       OK ] ModelBuilderTF2Test.test_create_faster_rcnn_models_from_config_mask_rcnn_with_matmul\n",
      "[ RUN      ] ModelBuilderTF2Test.test_create_faster_rcnn_models_from_config_mask_rcnn_without_matmul\n",
      "INFO:tensorflow:time(__main__.ModelBuilderTF2Test.test_create_faster_rcnn_models_from_config_mask_rcnn_without_matmul): 0.19s\n",
      "I1218 17:30:05.166807 140686708188992 test_util.py:2076] time(__main__.ModelBuilderTF2Test.test_create_faster_rcnn_models_from_config_mask_rcnn_without_matmul): 0.19s\n",
      "[       OK ] ModelBuilderTF2Test.test_create_faster_rcnn_models_from_config_mask_rcnn_without_matmul\n",
      "[ RUN      ] ModelBuilderTF2Test.test_create_rfcn_model_from_config\n",
      "INFO:tensorflow:time(__main__.ModelBuilderTF2Test.test_create_rfcn_model_from_config): 0.2s\n",
      "I1218 17:30:05.369871 140686708188992 test_util.py:2076] time(__main__.ModelBuilderTF2Test.test_create_rfcn_model_from_config): 0.2s\n",
      "[       OK ] ModelBuilderTF2Test.test_create_rfcn_model_from_config\n",
      "[ RUN      ] ModelBuilderTF2Test.test_create_ssd_fpn_model_from_config\n",
      "INFO:tensorflow:time(__main__.ModelBuilderTF2Test.test_create_ssd_fpn_model_from_config): 0.06s\n",
      "I1218 17:30:05.431343 140686708188992 test_util.py:2076] time(__main__.ModelBuilderTF2Test.test_create_ssd_fpn_model_from_config): 0.06s\n",
      "[       OK ] ModelBuilderTF2Test.test_create_ssd_fpn_model_from_config\n",
      "[ RUN      ] ModelBuilderTF2Test.test_create_ssd_models_from_config\n",
      "I1218 17:30:05.825726 140686708188992 ssd_efficientnet_bifpn_feature_extractor.py:144] EfficientDet EfficientNet backbone version: efficientnet-b0\n",
      "I1218 17:30:05.825904 140686708188992 ssd_efficientnet_bifpn_feature_extractor.py:145] EfficientDet BiFPN num filters: 64\n",
      "I1218 17:30:05.825993 140686708188992 ssd_efficientnet_bifpn_feature_extractor.py:147] EfficientDet BiFPN num iterations: 3\n",
      "I1218 17:30:05.835051 140686708188992 efficientnet_model.py:148] round_filter input=32 output=32\n",
      "I1218 17:30:05.855701 140686708188992 efficientnet_model.py:148] round_filter input=32 output=32\n",
      "I1218 17:30:05.855850 140686708188992 efficientnet_model.py:148] round_filter input=16 output=16\n",
      "I1218 17:30:05.927101 140686708188992 efficientnet_model.py:148] round_filter input=16 output=16\n",
      "I1218 17:30:05.927267 140686708188992 efficientnet_model.py:148] round_filter input=24 output=24\n",
      "I1218 17:30:06.110000 140686708188992 efficientnet_model.py:148] round_filter input=24 output=24\n",
      "I1218 17:30:06.110178 140686708188992 efficientnet_model.py:148] round_filter input=40 output=40\n",
      "I1218 17:30:06.293398 140686708188992 efficientnet_model.py:148] round_filter input=40 output=40\n",
      "I1218 17:30:06.293655 140686708188992 efficientnet_model.py:148] round_filter input=80 output=80\n",
      "I1218 17:30:06.569082 140686708188992 efficientnet_model.py:148] round_filter input=80 output=80\n",
      "I1218 17:30:06.569264 140686708188992 efficientnet_model.py:148] round_filter input=112 output=112\n",
      "I1218 17:30:06.847910 140686708188992 efficientnet_model.py:148] round_filter input=112 output=112\n",
      "I1218 17:30:06.848087 140686708188992 efficientnet_model.py:148] round_filter input=192 output=192\n",
      "I1218 17:30:07.234366 140686708188992 efficientnet_model.py:148] round_filter input=192 output=192\n",
      "I1218 17:30:07.234561 140686708188992 efficientnet_model.py:148] round_filter input=320 output=320\n",
      "I1218 17:30:07.326207 140686708188992 efficientnet_model.py:148] round_filter input=1280 output=1280\n",
      "I1218 17:30:07.365597 140686708188992 efficientnet_model.py:462] Building model efficientnet with params ModelConfig(width_coefficient=1.0, depth_coefficient=1.0, resolution=224, dropout_rate=0.2, blocks=(BlockConfig(input_filters=32, output_filters=16, kernel_size=3, num_repeat=1, expand_ratio=1, strides=(1, 1), se_ratio=0.25, id_skip=True, fused_conv=False, conv_type='depthwise'), BlockConfig(input_filters=16, output_filters=24, kernel_size=3, num_repeat=2, expand_ratio=6, strides=(2, 2), se_ratio=0.25, id_skip=True, fused_conv=False, conv_type='depthwise'), BlockConfig(input_filters=24, output_filters=40, kernel_size=5, num_repeat=2, expand_ratio=6, strides=(2, 2), se_ratio=0.25, id_skip=True, fused_conv=False, conv_type='depthwise'), BlockConfig(input_filters=40, output_filters=80, kernel_size=3, num_repeat=3, expand_ratio=6, strides=(2, 2), se_ratio=0.25, id_skip=True, fused_conv=False, conv_type='depthwise'), BlockConfig(input_filters=80, output_filters=112, kernel_size=5, num_repeat=3, expand_ratio=6, strides=(1, 1), se_ratio=0.25, id_skip=True, fused_conv=False, conv_type='depthwise'), BlockConfig(input_filters=112, output_filters=192, kernel_size=5, num_repeat=4, expand_ratio=6, strides=(2, 2), se_ratio=0.25, id_skip=True, fused_conv=False, conv_type='depthwise'), BlockConfig(input_filters=192, output_filters=320, kernel_size=3, num_repeat=1, expand_ratio=6, strides=(1, 1), se_ratio=0.25, id_skip=True, fused_conv=False, conv_type='depthwise')), stem_base_filters=32, top_base_filters=1280, activation='simple_swish', batch_norm='default', bn_momentum=0.99, bn_epsilon=0.001, weight_decay=5e-06, drop_connect_rate=0.2, depth_divisor=8, min_depth=None, use_se=True, input_channels=3, num_classes=1000, model_name='efficientnet', rescale_input=False, data_format='channels_last', dtype='float32')\n",
      "I1218 17:30:07.469956 140686708188992 ssd_efficientnet_bifpn_feature_extractor.py:144] EfficientDet EfficientNet backbone version: efficientnet-b1\n",
      "I1218 17:30:07.470130 140686708188992 ssd_efficientnet_bifpn_feature_extractor.py:145] EfficientDet BiFPN num filters: 88\n",
      "I1218 17:30:07.470214 140686708188992 ssd_efficientnet_bifpn_feature_extractor.py:147] EfficientDet BiFPN num iterations: 4\n",
      "I1218 17:30:07.476791 140686708188992 efficientnet_model.py:148] round_filter input=32 output=32\n",
      "I1218 17:30:07.495141 140686708188992 efficientnet_model.py:148] round_filter input=32 output=32\n",
      "I1218 17:30:07.495280 140686708188992 efficientnet_model.py:148] round_filter input=16 output=16\n",
      "I1218 17:30:07.640395 140686708188992 efficientnet_model.py:148] round_filter input=16 output=16\n",
      "I1218 17:30:07.640565 140686708188992 efficientnet_model.py:148] round_filter input=24 output=24\n",
      "I1218 17:30:07.912240 140686708188992 efficientnet_model.py:148] round_filter input=24 output=24\n",
      "I1218 17:30:07.912414 140686708188992 efficientnet_model.py:148] round_filter input=40 output=40\n",
      "I1218 17:30:08.187157 140686708188992 efficientnet_model.py:148] round_filter input=40 output=40\n",
      "I1218 17:30:08.187341 140686708188992 efficientnet_model.py:148] round_filter input=80 output=80\n",
      "I1218 17:30:08.560431 140686708188992 efficientnet_model.py:148] round_filter input=80 output=80\n",
      "I1218 17:30:08.560610 140686708188992 efficientnet_model.py:148] round_filter input=112 output=112\n",
      "I1218 17:30:08.934587 140686708188992 efficientnet_model.py:148] round_filter input=112 output=112\n",
      "I1218 17:30:08.934800 140686708188992 efficientnet_model.py:148] round_filter input=192 output=192\n",
      "I1218 17:30:09.538077 140686708188992 efficientnet_model.py:148] round_filter input=192 output=192\n",
      "I1218 17:30:09.538255 140686708188992 efficientnet_model.py:148] round_filter input=320 output=320\n",
      "I1218 17:30:09.741123 140686708188992 efficientnet_model.py:148] round_filter input=1280 output=1280\n",
      "I1218 17:30:09.779979 140686708188992 efficientnet_model.py:462] Building model efficientnet with params ModelConfig(width_coefficient=1.0, depth_coefficient=1.1, resolution=240, dropout_rate=0.2, blocks=(BlockConfig(input_filters=32, output_filters=16, kernel_size=3, num_repeat=1, expand_ratio=1, strides=(1, 1), se_ratio=0.25, id_skip=True, fused_conv=False, conv_type='depthwise'), BlockConfig(input_filters=16, output_filters=24, kernel_size=3, num_repeat=2, expand_ratio=6, strides=(2, 2), se_ratio=0.25, id_skip=True, fused_conv=False, conv_type='depthwise'), BlockConfig(input_filters=24, output_filters=40, kernel_size=5, num_repeat=2, expand_ratio=6, strides=(2, 2), se_ratio=0.25, id_skip=True, fused_conv=False, conv_type='depthwise'), BlockConfig(input_filters=40, output_filters=80, kernel_size=3, num_repeat=3, expand_ratio=6, strides=(2, 2), se_ratio=0.25, id_skip=True, fused_conv=False, conv_type='depthwise'), BlockConfig(input_filters=80, output_filters=112, kernel_size=5, num_repeat=3, expand_ratio=6, strides=(1, 1), se_ratio=0.25, id_skip=True, fused_conv=False, conv_type='depthwise'), BlockConfig(input_filters=112, output_filters=192, kernel_size=5, num_repeat=4, expand_ratio=6, strides=(2, 2), se_ratio=0.25, id_skip=True, fused_conv=False, conv_type='depthwise'), BlockConfig(input_filters=192, output_filters=320, kernel_size=3, num_repeat=1, expand_ratio=6, strides=(1, 1), se_ratio=0.25, id_skip=True, fused_conv=False, conv_type='depthwise')), stem_base_filters=32, top_base_filters=1280, activation='simple_swish', batch_norm='default', bn_momentum=0.99, bn_epsilon=0.001, weight_decay=5e-06, drop_connect_rate=0.2, depth_divisor=8, min_depth=None, use_se=True, input_channels=3, num_classes=1000, model_name='efficientnet', rescale_input=False, data_format='channels_last', dtype='float32')\n",
      "I1218 17:30:09.884953 140686708188992 ssd_efficientnet_bifpn_feature_extractor.py:144] EfficientDet EfficientNet backbone version: efficientnet-b2\n",
      "I1218 17:30:09.885130 140686708188992 ssd_efficientnet_bifpn_feature_extractor.py:145] EfficientDet BiFPN num filters: 112\n",
      "I1218 17:30:09.885215 140686708188992 ssd_efficientnet_bifpn_feature_extractor.py:147] EfficientDet BiFPN num iterations: 5\n",
      "I1218 17:30:09.891706 140686708188992 efficientnet_model.py:148] round_filter input=32 output=32\n",
      "I1218 17:30:09.909953 140686708188992 efficientnet_model.py:148] round_filter input=32 output=32\n",
      "I1218 17:30:09.910074 140686708188992 efficientnet_model.py:148] round_filter input=16 output=16\n",
      "I1218 17:30:10.053884 140686708188992 efficientnet_model.py:148] round_filter input=16 output=16\n",
      "I1218 17:30:10.054064 140686708188992 efficientnet_model.py:148] round_filter input=24 output=24\n",
      "I1218 17:30:10.330543 140686708188992 efficientnet_model.py:148] round_filter input=24 output=24\n",
      "I1218 17:30:10.330716 140686708188992 efficientnet_model.py:148] round_filter input=40 output=48\n",
      "I1218 17:30:10.606899 140686708188992 efficientnet_model.py:148] round_filter input=40 output=48\n",
      "I1218 17:30:10.607077 140686708188992 efficientnet_model.py:148] round_filter input=80 output=88\n",
      "I1218 17:30:10.990242 140686708188992 efficientnet_model.py:148] round_filter input=80 output=88\n",
      "I1218 17:30:10.990429 140686708188992 efficientnet_model.py:148] round_filter input=112 output=120\n",
      "I1218 17:30:11.369164 140686708188992 efficientnet_model.py:148] round_filter input=112 output=120\n",
      "I1218 17:30:11.369341 140686708188992 efficientnet_model.py:148] round_filter input=192 output=208\n",
      "I1218 17:30:11.855909 140686708188992 efficientnet_model.py:148] round_filter input=192 output=208\n",
      "I1218 17:30:11.856103 140686708188992 efficientnet_model.py:148] round_filter input=320 output=352\n",
      "I1218 17:30:12.061308 140686708188992 efficientnet_model.py:148] round_filter input=1280 output=1408\n",
      "I1218 17:30:12.102885 140686708188992 efficientnet_model.py:462] Building model efficientnet with params ModelConfig(width_coefficient=1.1, depth_coefficient=1.2, resolution=260, dropout_rate=0.3, blocks=(BlockConfig(input_filters=32, output_filters=16, kernel_size=3, num_repeat=1, expand_ratio=1, strides=(1, 1), se_ratio=0.25, id_skip=True, fused_conv=False, conv_type='depthwise'), BlockConfig(input_filters=16, output_filters=24, kernel_size=3, num_repeat=2, expand_ratio=6, strides=(2, 2), se_ratio=0.25, id_skip=True, fused_conv=False, conv_type='depthwise'), BlockConfig(input_filters=24, output_filters=40, kernel_size=5, num_repeat=2, expand_ratio=6, strides=(2, 2), se_ratio=0.25, id_skip=True, fused_conv=False, conv_type='depthwise'), BlockConfig(input_filters=40, output_filters=80, kernel_size=3, num_repeat=3, expand_ratio=6, strides=(2, 2), se_ratio=0.25, id_skip=True, fused_conv=False, conv_type='depthwise'), BlockConfig(input_filters=80, output_filters=112, kernel_size=5, num_repeat=3, expand_ratio=6, strides=(1, 1), se_ratio=0.25, id_skip=True, fused_conv=False, conv_type='depthwise'), BlockConfig(input_filters=112, output_filters=192, kernel_size=5, num_repeat=4, expand_ratio=6, strides=(2, 2), se_ratio=0.25, id_skip=True, fused_conv=False, conv_type='depthwise'), BlockConfig(input_filters=192, output_filters=320, kernel_size=3, num_repeat=1, expand_ratio=6, strides=(1, 1), se_ratio=0.25, id_skip=True, fused_conv=False, conv_type='depthwise')), stem_base_filters=32, top_base_filters=1280, activation='simple_swish', batch_norm='default', bn_momentum=0.99, bn_epsilon=0.001, weight_decay=5e-06, drop_connect_rate=0.2, depth_divisor=8, min_depth=None, use_se=True, input_channels=3, num_classes=1000, model_name='efficientnet', rescale_input=False, data_format='channels_last', dtype='float32')\n",
      "I1218 17:30:12.207837 140686708188992 ssd_efficientnet_bifpn_feature_extractor.py:144] EfficientDet EfficientNet backbone version: efficientnet-b3\n",
      "I1218 17:30:12.208012 140686708188992 ssd_efficientnet_bifpn_feature_extractor.py:145] EfficientDet BiFPN num filters: 160\n",
      "I1218 17:30:12.208094 140686708188992 ssd_efficientnet_bifpn_feature_extractor.py:147] EfficientDet BiFPN num iterations: 6\n",
      "I1218 17:30:12.214650 140686708188992 efficientnet_model.py:148] round_filter input=32 output=40\n",
      "I1218 17:30:12.232902 140686708188992 efficientnet_model.py:148] round_filter input=32 output=40\n",
      "I1218 17:30:12.233018 140686708188992 efficientnet_model.py:148] round_filter input=16 output=24\n",
      "I1218 17:30:12.379445 140686708188992 efficientnet_model.py:148] round_filter input=16 output=24\n",
      "I1218 17:30:12.379616 140686708188992 efficientnet_model.py:148] round_filter input=24 output=32\n",
      "I1218 17:30:12.654865 140686708188992 efficientnet_model.py:148] round_filter input=24 output=32\n",
      "I1218 17:30:12.655068 140686708188992 efficientnet_model.py:148] round_filter input=40 output=48\n",
      "I1218 17:30:12.930263 140686708188992 efficientnet_model.py:148] round_filter input=40 output=48\n",
      "I1218 17:30:12.930446 140686708188992 efficientnet_model.py:148] round_filter input=80 output=96\n",
      "I1218 17:30:13.398505 140686708188992 efficientnet_model.py:148] round_filter input=80 output=96\n",
      "I1218 17:30:13.398714 140686708188992 efficientnet_model.py:148] round_filter input=112 output=136\n",
      "I1218 17:30:14.068120 140686708188992 efficientnet_model.py:148] round_filter input=112 output=136\n",
      "I1218 17:30:14.068293 140686708188992 efficientnet_model.py:148] round_filter input=192 output=232\n",
      "I1218 17:30:14.665475 140686708188992 efficientnet_model.py:148] round_filter input=192 output=232\n",
      "I1218 17:30:14.665665 140686708188992 efficientnet_model.py:148] round_filter input=320 output=384\n",
      "I1218 17:30:14.871781 140686708188992 efficientnet_model.py:148] round_filter input=1280 output=1536\n",
      "I1218 17:30:14.912929 140686708188992 efficientnet_model.py:462] Building model efficientnet with params ModelConfig(width_coefficient=1.2, depth_coefficient=1.4, resolution=300, dropout_rate=0.3, blocks=(BlockConfig(input_filters=32, output_filters=16, kernel_size=3, num_repeat=1, expand_ratio=1, strides=(1, 1), se_ratio=0.25, id_skip=True, fused_conv=False, conv_type='depthwise'), BlockConfig(input_filters=16, output_filters=24, kernel_size=3, num_repeat=2, expand_ratio=6, strides=(2, 2), se_ratio=0.25, id_skip=True, fused_conv=False, conv_type='depthwise'), BlockConfig(input_filters=24, output_filters=40, kernel_size=5, num_repeat=2, expand_ratio=6, strides=(2, 2), se_ratio=0.25, id_skip=True, fused_conv=False, conv_type='depthwise'), BlockConfig(input_filters=40, output_filters=80, kernel_size=3, num_repeat=3, expand_ratio=6, strides=(2, 2), se_ratio=0.25, id_skip=True, fused_conv=False, conv_type='depthwise'), BlockConfig(input_filters=80, output_filters=112, kernel_size=5, num_repeat=3, expand_ratio=6, strides=(1, 1), se_ratio=0.25, id_skip=True, fused_conv=False, conv_type='depthwise'), BlockConfig(input_filters=112, output_filters=192, kernel_size=5, num_repeat=4, expand_ratio=6, strides=(2, 2), se_ratio=0.25, id_skip=True, fused_conv=False, conv_type='depthwise'), BlockConfig(input_filters=192, output_filters=320, kernel_size=3, num_repeat=1, expand_ratio=6, strides=(1, 1), se_ratio=0.25, id_skip=True, fused_conv=False, conv_type='depthwise')), stem_base_filters=32, top_base_filters=1280, activation='simple_swish', batch_norm='default', bn_momentum=0.99, bn_epsilon=0.001, weight_decay=5e-06, drop_connect_rate=0.2, depth_divisor=8, min_depth=None, use_se=True, input_channels=3, num_classes=1000, model_name='efficientnet', rescale_input=False, data_format='channels_last', dtype='float32')\n",
      "I1218 17:30:15.026621 140686708188992 ssd_efficientnet_bifpn_feature_extractor.py:144] EfficientDet EfficientNet backbone version: efficientnet-b4\n",
      "I1218 17:30:15.026810 140686708188992 ssd_efficientnet_bifpn_feature_extractor.py:145] EfficientDet BiFPN num filters: 224\n",
      "I1218 17:30:15.026922 140686708188992 ssd_efficientnet_bifpn_feature_extractor.py:147] EfficientDet BiFPN num iterations: 7\n",
      "I1218 17:30:15.033989 140686708188992 efficientnet_model.py:148] round_filter input=32 output=48\n",
      "I1218 17:30:15.052597 140686708188992 efficientnet_model.py:148] round_filter input=32 output=48\n",
      "I1218 17:30:15.052727 140686708188992 efficientnet_model.py:148] round_filter input=16 output=24\n",
      "I1218 17:30:15.200633 140686708188992 efficientnet_model.py:148] round_filter input=16 output=24\n",
      "I1218 17:30:15.200819 140686708188992 efficientnet_model.py:148] round_filter input=24 output=32\n",
      "I1218 17:30:15.567913 140686708188992 efficientnet_model.py:148] round_filter input=24 output=32\n",
      "I1218 17:30:15.568089 140686708188992 efficientnet_model.py:148] round_filter input=40 output=56\n",
      "I1218 17:30:15.938113 140686708188992 efficientnet_model.py:148] round_filter input=40 output=56\n",
      "I1218 17:30:15.938284 140686708188992 efficientnet_model.py:148] round_filter input=80 output=112\n",
      "I1218 17:30:16.498701 140686708188992 efficientnet_model.py:148] round_filter input=80 output=112\n",
      "I1218 17:30:16.498874 140686708188992 efficientnet_model.py:148] round_filter input=112 output=160\n",
      "I1218 17:30:17.068463 140686708188992 efficientnet_model.py:148] round_filter input=112 output=160\n",
      "I1218 17:30:17.068636 140686708188992 efficientnet_model.py:148] round_filter input=192 output=272\n",
      "I1218 17:30:17.867455 140686708188992 efficientnet_model.py:148] round_filter input=192 output=272\n",
      "I1218 17:30:17.867630 140686708188992 efficientnet_model.py:148] round_filter input=320 output=448\n",
      "I1218 17:30:18.079620 140686708188992 efficientnet_model.py:148] round_filter input=1280 output=1792\n",
      "I1218 17:30:18.121583 140686708188992 efficientnet_model.py:462] Building model efficientnet with params ModelConfig(width_coefficient=1.4, depth_coefficient=1.8, resolution=380, dropout_rate=0.4, blocks=(BlockConfig(input_filters=32, output_filters=16, kernel_size=3, num_repeat=1, expand_ratio=1, strides=(1, 1), se_ratio=0.25, id_skip=True, fused_conv=False, conv_type='depthwise'), BlockConfig(input_filters=16, output_filters=24, kernel_size=3, num_repeat=2, expand_ratio=6, strides=(2, 2), se_ratio=0.25, id_skip=True, fused_conv=False, conv_type='depthwise'), BlockConfig(input_filters=24, output_filters=40, kernel_size=5, num_repeat=2, expand_ratio=6, strides=(2, 2), se_ratio=0.25, id_skip=True, fused_conv=False, conv_type='depthwise'), BlockConfig(input_filters=40, output_filters=80, kernel_size=3, num_repeat=3, expand_ratio=6, strides=(2, 2), se_ratio=0.25, id_skip=True, fused_conv=False, conv_type='depthwise'), BlockConfig(input_filters=80, output_filters=112, kernel_size=5, num_repeat=3, expand_ratio=6, strides=(1, 1), se_ratio=0.25, id_skip=True, fused_conv=False, conv_type='depthwise'), BlockConfig(input_filters=112, output_filters=192, kernel_size=5, num_repeat=4, expand_ratio=6, strides=(2, 2), se_ratio=0.25, id_skip=True, fused_conv=False, conv_type='depthwise'), BlockConfig(input_filters=192, output_filters=320, kernel_size=3, num_repeat=1, expand_ratio=6, strides=(1, 1), se_ratio=0.25, id_skip=True, fused_conv=False, conv_type='depthwise')), stem_base_filters=32, top_base_filters=1280, activation='simple_swish', batch_norm='default', bn_momentum=0.99, bn_epsilon=0.001, weight_decay=5e-06, drop_connect_rate=0.2, depth_divisor=8, min_depth=None, use_se=True, input_channels=3, num_classes=1000, model_name='efficientnet', rescale_input=False, data_format='channels_last', dtype='float32')\n",
      "I1218 17:30:18.246350 140686708188992 ssd_efficientnet_bifpn_feature_extractor.py:144] EfficientDet EfficientNet backbone version: efficientnet-b5\n",
      "I1218 17:30:18.246539 140686708188992 ssd_efficientnet_bifpn_feature_extractor.py:145] EfficientDet BiFPN num filters: 288\n",
      "I1218 17:30:18.246623 140686708188992 ssd_efficientnet_bifpn_feature_extractor.py:147] EfficientDet BiFPN num iterations: 7\n",
      "I1218 17:30:18.253494 140686708188992 efficientnet_model.py:148] round_filter input=32 output=48\n",
      "I1218 17:30:18.271787 140686708188992 efficientnet_model.py:148] round_filter input=32 output=48\n",
      "I1218 17:30:18.271903 140686708188992 efficientnet_model.py:148] round_filter input=16 output=24\n",
      "I1218 17:30:18.490946 140686708188992 efficientnet_model.py:148] round_filter input=16 output=24\n",
      "I1218 17:30:18.491153 140686708188992 efficientnet_model.py:148] round_filter input=24 output=40\n",
      "I1218 17:30:19.152126 140686708188992 efficientnet_model.py:148] round_filter input=24 output=40\n",
      "I1218 17:30:19.152301 140686708188992 efficientnet_model.py:148] round_filter input=40 output=64\n",
      "I1218 17:30:19.621561 140686708188992 efficientnet_model.py:148] round_filter input=40 output=64\n",
      "I1218 17:30:19.621755 140686708188992 efficientnet_model.py:148] round_filter input=80 output=128\n",
      "I1218 17:30:20.288362 140686708188992 efficientnet_model.py:148] round_filter input=80 output=128\n",
      "I1218 17:30:20.288539 140686708188992 efficientnet_model.py:148] round_filter input=112 output=176\n",
      "I1218 17:30:20.961037 140686708188992 efficientnet_model.py:148] round_filter input=112 output=176\n",
      "I1218 17:30:20.961214 140686708188992 efficientnet_model.py:148] round_filter input=192 output=304\n",
      "I1218 17:30:21.879144 140686708188992 efficientnet_model.py:148] round_filter input=192 output=304\n",
      "I1218 17:30:21.879338 140686708188992 efficientnet_model.py:148] round_filter input=320 output=512\n",
      "I1218 17:30:22.226461 140686708188992 efficientnet_model.py:148] round_filter input=1280 output=2048\n",
      "I1218 17:30:22.273591 140686708188992 efficientnet_model.py:462] Building model efficientnet with params ModelConfig(width_coefficient=1.6, depth_coefficient=2.2, resolution=456, dropout_rate=0.4, blocks=(BlockConfig(input_filters=32, output_filters=16, kernel_size=3, num_repeat=1, expand_ratio=1, strides=(1, 1), se_ratio=0.25, id_skip=True, fused_conv=False, conv_type='depthwise'), BlockConfig(input_filters=16, output_filters=24, kernel_size=3, num_repeat=2, expand_ratio=6, strides=(2, 2), se_ratio=0.25, id_skip=True, fused_conv=False, conv_type='depthwise'), BlockConfig(input_filters=24, output_filters=40, kernel_size=5, num_repeat=2, expand_ratio=6, strides=(2, 2), se_ratio=0.25, id_skip=True, fused_conv=False, conv_type='depthwise'), BlockConfig(input_filters=40, output_filters=80, kernel_size=3, num_repeat=3, expand_ratio=6, strides=(2, 2), se_ratio=0.25, id_skip=True, fused_conv=False, conv_type='depthwise'), BlockConfig(input_filters=80, output_filters=112, kernel_size=5, num_repeat=3, expand_ratio=6, strides=(1, 1), se_ratio=0.25, id_skip=True, fused_conv=False, conv_type='depthwise'), BlockConfig(input_filters=112, output_filters=192, kernel_size=5, num_repeat=4, expand_ratio=6, strides=(2, 2), se_ratio=0.25, id_skip=True, fused_conv=False, conv_type='depthwise'), BlockConfig(input_filters=192, output_filters=320, kernel_size=3, num_repeat=1, expand_ratio=6, strides=(1, 1), se_ratio=0.25, id_skip=True, fused_conv=False, conv_type='depthwise')), stem_base_filters=32, top_base_filters=1280, activation='simple_swish', batch_norm='default', bn_momentum=0.99, bn_epsilon=0.001, weight_decay=5e-06, drop_connect_rate=0.2, depth_divisor=8, min_depth=None, use_se=True, input_channels=3, num_classes=1000, model_name='efficientnet', rescale_input=False, data_format='channels_last', dtype='float32')\n",
      "I1218 17:30:22.413784 140686708188992 ssd_efficientnet_bifpn_feature_extractor.py:144] EfficientDet EfficientNet backbone version: efficientnet-b6\n",
      "I1218 17:30:22.413966 140686708188992 ssd_efficientnet_bifpn_feature_extractor.py:145] EfficientDet BiFPN num filters: 384\n",
      "I1218 17:30:22.414055 140686708188992 ssd_efficientnet_bifpn_feature_extractor.py:147] EfficientDet BiFPN num iterations: 8\n",
      "I1218 17:30:22.421866 140686708188992 efficientnet_model.py:148] round_filter input=32 output=56\n",
      "I1218 17:30:22.440641 140686708188992 efficientnet_model.py:148] round_filter input=32 output=56\n",
      "I1218 17:30:22.440758 140686708188992 efficientnet_model.py:148] round_filter input=16 output=32\n",
      "I1218 17:30:22.661649 140686708188992 efficientnet_model.py:148] round_filter input=16 output=32\n",
      "I1218 17:30:22.661824 140686708188992 efficientnet_model.py:148] round_filter input=24 output=40\n",
      "I1218 17:30:23.215829 140686708188992 efficientnet_model.py:148] round_filter input=24 output=40\n",
      "I1218 17:30:23.216001 140686708188992 efficientnet_model.py:148] round_filter input=40 output=72\n",
      "I1218 17:30:23.772233 140686708188992 efficientnet_model.py:148] round_filter input=40 output=72\n",
      "I1218 17:30:23.772408 140686708188992 efficientnet_model.py:148] round_filter input=80 output=144\n",
      "I1218 17:30:24.713165 140686708188992 efficientnet_model.py:148] round_filter input=80 output=144\n",
      "I1218 17:30:24.713340 140686708188992 efficientnet_model.py:148] round_filter input=112 output=200\n",
      "I1218 17:30:25.498085 140686708188992 efficientnet_model.py:148] round_filter input=112 output=200\n",
      "I1218 17:30:25.498274 140686708188992 efficientnet_model.py:148] round_filter input=192 output=344\n",
      "I1218 17:30:26.661391 140686708188992 efficientnet_model.py:148] round_filter input=192 output=344\n",
      "I1218 17:30:26.661581 140686708188992 efficientnet_model.py:148] round_filter input=320 output=576\n",
      "I1218 17:30:27.020941 140686708188992 efficientnet_model.py:148] round_filter input=1280 output=2304\n",
      "I1218 17:30:27.069383 140686708188992 efficientnet_model.py:462] Building model efficientnet with params ModelConfig(width_coefficient=1.8, depth_coefficient=2.6, resolution=528, dropout_rate=0.5, blocks=(BlockConfig(input_filters=32, output_filters=16, kernel_size=3, num_repeat=1, expand_ratio=1, strides=(1, 1), se_ratio=0.25, id_skip=True, fused_conv=False, conv_type='depthwise'), BlockConfig(input_filters=16, output_filters=24, kernel_size=3, num_repeat=2, expand_ratio=6, strides=(2, 2), se_ratio=0.25, id_skip=True, fused_conv=False, conv_type='depthwise'), BlockConfig(input_filters=24, output_filters=40, kernel_size=5, num_repeat=2, expand_ratio=6, strides=(2, 2), se_ratio=0.25, id_skip=True, fused_conv=False, conv_type='depthwise'), BlockConfig(input_filters=40, output_filters=80, kernel_size=3, num_repeat=3, expand_ratio=6, strides=(2, 2), se_ratio=0.25, id_skip=True, fused_conv=False, conv_type='depthwise'), BlockConfig(input_filters=80, output_filters=112, kernel_size=5, num_repeat=3, expand_ratio=6, strides=(1, 1), se_ratio=0.25, id_skip=True, fused_conv=False, conv_type='depthwise'), BlockConfig(input_filters=112, output_filters=192, kernel_size=5, num_repeat=4, expand_ratio=6, strides=(2, 2), se_ratio=0.25, id_skip=True, fused_conv=False, conv_type='depthwise'), BlockConfig(input_filters=192, output_filters=320, kernel_size=3, num_repeat=1, expand_ratio=6, strides=(1, 1), se_ratio=0.25, id_skip=True, fused_conv=False, conv_type='depthwise')), stem_base_filters=32, top_base_filters=1280, activation='simple_swish', batch_norm='default', bn_momentum=0.99, bn_epsilon=0.001, weight_decay=5e-06, drop_connect_rate=0.2, depth_divisor=8, min_depth=None, use_se=True, input_channels=3, num_classes=1000, model_name='efficientnet', rescale_input=False, data_format='channels_last', dtype='float32')\n",
      "I1218 17:30:27.232869 140686708188992 ssd_efficientnet_bifpn_feature_extractor.py:144] EfficientDet EfficientNet backbone version: efficientnet-b7\n",
      "I1218 17:30:27.233054 140686708188992 ssd_efficientnet_bifpn_feature_extractor.py:145] EfficientDet BiFPN num filters: 384\n",
      "I1218 17:30:27.233143 140686708188992 ssd_efficientnet_bifpn_feature_extractor.py:147] EfficientDet BiFPN num iterations: 8\n",
      "I1218 17:30:27.240990 140686708188992 efficientnet_model.py:148] round_filter input=32 output=64\n",
      "I1218 17:30:27.260884 140686708188992 efficientnet_model.py:148] round_filter input=32 output=64\n",
      "I1218 17:30:27.261000 140686708188992 efficientnet_model.py:148] round_filter input=16 output=32\n",
      "I1218 17:30:27.554727 140686708188992 efficientnet_model.py:148] round_filter input=16 output=32\n",
      "I1218 17:30:27.554898 140686708188992 efficientnet_model.py:148] round_filter input=24 output=48\n",
      "I1218 17:30:28.200037 140686708188992 efficientnet_model.py:148] round_filter input=24 output=48\n",
      "I1218 17:30:28.200223 140686708188992 efficientnet_model.py:148] round_filter input=40 output=80\n",
      "I1218 17:30:28.856074 140686708188992 efficientnet_model.py:148] round_filter input=40 output=80\n",
      "I1218 17:30:28.856246 140686708188992 efficientnet_model.py:148] round_filter input=80 output=160\n",
      "I1218 17:30:29.811968 140686708188992 efficientnet_model.py:148] round_filter input=80 output=160\n",
      "I1218 17:30:29.812160 140686708188992 efficientnet_model.py:148] round_filter input=112 output=224\n",
      "I1218 17:30:31.023714 140686708188992 efficientnet_model.py:148] round_filter input=112 output=224\n",
      "I1218 17:30:31.023897 140686708188992 efficientnet_model.py:148] round_filter input=192 output=384\n",
      "I1218 17:30:32.455923 140686708188992 efficientnet_model.py:148] round_filter input=192 output=384\n",
      "I1218 17:30:32.456105 140686708188992 efficientnet_model.py:148] round_filter input=320 output=640\n",
      "I1218 17:30:32.984311 140686708188992 efficientnet_model.py:148] round_filter input=1280 output=2560\n",
      "I1218 17:30:33.036514 140686708188992 efficientnet_model.py:462] Building model efficientnet with params ModelConfig(width_coefficient=2.0, depth_coefficient=3.1, resolution=600, dropout_rate=0.5, blocks=(BlockConfig(input_filters=32, output_filters=16, kernel_size=3, num_repeat=1, expand_ratio=1, strides=(1, 1), se_ratio=0.25, id_skip=True, fused_conv=False, conv_type='depthwise'), BlockConfig(input_filters=16, output_filters=24, kernel_size=3, num_repeat=2, expand_ratio=6, strides=(2, 2), se_ratio=0.25, id_skip=True, fused_conv=False, conv_type='depthwise'), BlockConfig(input_filters=24, output_filters=40, kernel_size=5, num_repeat=2, expand_ratio=6, strides=(2, 2), se_ratio=0.25, id_skip=True, fused_conv=False, conv_type='depthwise'), BlockConfig(input_filters=40, output_filters=80, kernel_size=3, num_repeat=3, expand_ratio=6, strides=(2, 2), se_ratio=0.25, id_skip=True, fused_conv=False, conv_type='depthwise'), BlockConfig(input_filters=80, output_filters=112, kernel_size=5, num_repeat=3, expand_ratio=6, strides=(1, 1), se_ratio=0.25, id_skip=True, fused_conv=False, conv_type='depthwise'), BlockConfig(input_filters=112, output_filters=192, kernel_size=5, num_repeat=4, expand_ratio=6, strides=(2, 2), se_ratio=0.25, id_skip=True, fused_conv=False, conv_type='depthwise'), BlockConfig(input_filters=192, output_filters=320, kernel_size=3, num_repeat=1, expand_ratio=6, strides=(1, 1), se_ratio=0.25, id_skip=True, fused_conv=False, conv_type='depthwise')), stem_base_filters=32, top_base_filters=1280, activation='simple_swish', batch_norm='default', bn_momentum=0.99, bn_epsilon=0.001, weight_decay=5e-06, drop_connect_rate=0.2, depth_divisor=8, min_depth=None, use_se=True, input_channels=3, num_classes=1000, model_name='efficientnet', rescale_input=False, data_format='channels_last', dtype='float32')\n",
      "INFO:tensorflow:time(__main__.ModelBuilderTF2Test.test_create_ssd_models_from_config): 27.78s\r\n",
      "I1218 17:30:33.209852 140686708188992 test_util.py:2076] time(__main__.ModelBuilderTF2Test.test_create_ssd_models_from_config): 27.78s\r\n",
      "[       OK ] ModelBuilderTF2Test.test_create_ssd_models_from_config\r\n",
      "[ RUN      ] ModelBuilderTF2Test.test_invalid_faster_rcnn_batchnorm_update\r\n",
      "INFO:tensorflow:time(__main__.ModelBuilderTF2Test.test_invalid_faster_rcnn_batchnorm_update): 0.0s\r\n",
      "I1218 17:30:33.220736 140686708188992 test_util.py:2076] time(__main__.ModelBuilderTF2Test.test_invalid_faster_rcnn_batchnorm_update): 0.0s\r\n",
      "[       OK ] ModelBuilderTF2Test.test_invalid_faster_rcnn_batchnorm_update\r\n",
      "[ RUN      ] ModelBuilderTF2Test.test_invalid_first_stage_nms_iou_threshold\r\n",
      "INFO:tensorflow:time(__main__.ModelBuilderTF2Test.test_invalid_first_stage_nms_iou_threshold): 0.0s\r\n",
      "I1218 17:30:33.222726 140686708188992 test_util.py:2076] time(__main__.ModelBuilderTF2Test.test_invalid_first_stage_nms_iou_threshold): 0.0s\r\n",
      "[       OK ] ModelBuilderTF2Test.test_invalid_first_stage_nms_iou_threshold\r\n",
      "[ RUN      ] ModelBuilderTF2Test.test_invalid_model_config_proto\r\n",
      "INFO:tensorflow:time(__main__.ModelBuilderTF2Test.test_invalid_model_config_proto): 0.0s\r\n",
      "I1218 17:30:33.223213 140686708188992 test_util.py:2076] time(__main__.ModelBuilderTF2Test.test_invalid_model_config_proto): 0.0s\r\n",
      "[       OK ] ModelBuilderTF2Test.test_invalid_model_config_proto\r\n",
      "[ RUN      ] ModelBuilderTF2Test.test_invalid_second_stage_batch_size\r\n",
      "INFO:tensorflow:time(__main__.ModelBuilderTF2Test.test_invalid_second_stage_batch_size): 0.0s\r\n",
      "I1218 17:30:33.225030 140686708188992 test_util.py:2076] time(__main__.ModelBuilderTF2Test.test_invalid_second_stage_batch_size): 0.0s\r\n",
      "[       OK ] ModelBuilderTF2Test.test_invalid_second_stage_batch_size\r\n",
      "[ RUN      ] ModelBuilderTF2Test.test_session\r\n",
      "[  SKIPPED ] ModelBuilderTF2Test.test_session\r\n",
      "[ RUN      ] ModelBuilderTF2Test.test_unknown_faster_rcnn_feature_extractor\r\n",
      "INFO:tensorflow:time(__main__.ModelBuilderTF2Test.test_unknown_faster_rcnn_feature_extractor): 0.0s\r\n",
      "I1218 17:30:33.226736 140686708188992 test_util.py:2076] time(__main__.ModelBuilderTF2Test.test_unknown_faster_rcnn_feature_extractor): 0.0s\r\n",
      "[       OK ] ModelBuilderTF2Test.test_unknown_faster_rcnn_feature_extractor\r\n",
      "[ RUN      ] ModelBuilderTF2Test.test_unknown_meta_architecture\r\n",
      "INFO:tensorflow:time(__main__.ModelBuilderTF2Test.test_unknown_meta_architecture): 0.0s\r\n",
      "I1218 17:30:33.227183 140686708188992 test_util.py:2076] time(__main__.ModelBuilderTF2Test.test_unknown_meta_architecture): 0.0s\r\n",
      "[       OK ] ModelBuilderTF2Test.test_unknown_meta_architecture\r\n",
      "[ RUN      ] ModelBuilderTF2Test.test_unknown_ssd_feature_extractor\r\n",
      "INFO:tensorflow:time(__main__.ModelBuilderTF2Test.test_unknown_ssd_feature_extractor): 0.0s\r\n",
      "I1218 17:30:33.228393 140686708188992 test_util.py:2076] time(__main__.ModelBuilderTF2Test.test_unknown_ssd_feature_extractor): 0.0s\r\n",
      "[       OK ] ModelBuilderTF2Test.test_unknown_ssd_feature_extractor\r\n",
      "----------------------------------------------------------------------\r\n",
      "Ran 20 tests in 32.860s\r\n",
      "\r\n",
      "OK (skipped=1)\r\n"
     ]
    }
   ],
   "source": [
    "!python object_detection/builders/model_builder_tf2_test.py"
   ]
  },
  {
   "cell_type": "code",
   "execution_count": null,
   "metadata": {},
   "outputs": [],
   "source": []
  }
 ],
 "metadata": {
  "kernelspec": {
   "display_name": "conda_tensorflow2_p36",
   "language": "python",
   "name": "conda_tensorflow2_p36"
  },
  "language_info": {
   "codemirror_mode": {
    "name": "ipython",
    "version": 3
   },
   "file_extension": ".py",
   "mimetype": "text/x-python",
   "name": "python",
   "nbconvert_exporter": "python",
   "pygments_lexer": "ipython3",
   "version": "3.6.10"
  }
 },
 "nbformat": 4,
 "nbformat_minor": 4
}
